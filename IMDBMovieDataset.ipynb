{
 "cells": [
  {
   "cell_type": "code",
   "execution_count": 2,
   "id": "709c98ba-97e0-44ee-a84b-dc7bc2c57a94",
   "metadata": {
    "tags": []
   },
   "outputs": [],
   "source": [
    "import pandas as pd\n",
    "import seaborn as sns\n",
    "import matplotlib.pyplot as plt"
   ]
  },
  {
   "cell_type": "code",
   "execution_count": 4,
   "id": "1f856762-cc52-4499-81d1-ae9c4fbe3a1c",
   "metadata": {
    "tags": []
   },
   "outputs": [],
   "source": [
    "data =  pd.read_csv(r\"C:\\Users\\dhruv\\OneDrive\\Desktop\\DatasetNew\\IMDB-Movie-Data.csv\")"
   ]
  },
  {
   "cell_type": "markdown",
   "id": "f6668037-546d-4690-9568-8862ea73f37e",
   "metadata": {},
   "source": [
    "# Display Top 10 rows of the dataset"
   ]
  },
  {
   "cell_type": "code",
   "execution_count": 7,
   "id": "b325d360-ea9b-4cbb-a421-c55e757e0758",
   "metadata": {
    "tags": []
   },
   "outputs": [
    {
     "data": {
      "text/html": [
       "<div>\n",
       "<style scoped>\n",
       "    .dataframe tbody tr th:only-of-type {\n",
       "        vertical-align: middle;\n",
       "    }\n",
       "\n",
       "    .dataframe tbody tr th {\n",
       "        vertical-align: top;\n",
       "    }\n",
       "\n",
       "    .dataframe thead th {\n",
       "        text-align: right;\n",
       "    }\n",
       "</style>\n",
       "<table border=\"1\" class=\"dataframe\">\n",
       "  <thead>\n",
       "    <tr style=\"text-align: right;\">\n",
       "      <th></th>\n",
       "      <th>Rank</th>\n",
       "      <th>Title</th>\n",
       "      <th>Genre</th>\n",
       "      <th>Description</th>\n",
       "      <th>Director</th>\n",
       "      <th>Actors</th>\n",
       "      <th>Year</th>\n",
       "      <th>Runtime (Minutes)</th>\n",
       "      <th>Rating</th>\n",
       "      <th>Votes</th>\n",
       "      <th>Revenue (Millions)</th>\n",
       "      <th>Metascore</th>\n",
       "    </tr>\n",
       "  </thead>\n",
       "  <tbody>\n",
       "    <tr>\n",
       "      <th>0</th>\n",
       "      <td>1</td>\n",
       "      <td>Guardians of the Galaxy</td>\n",
       "      <td>Action,Adventure,Sci-Fi</td>\n",
       "      <td>A group of intergalactic criminals are forced ...</td>\n",
       "      <td>James Gunn</td>\n",
       "      <td>Chris Pratt, Vin Diesel, Bradley Cooper, Zoe S...</td>\n",
       "      <td>2014</td>\n",
       "      <td>121</td>\n",
       "      <td>8.1</td>\n",
       "      <td>757074</td>\n",
       "      <td>333.13</td>\n",
       "      <td>76.0</td>\n",
       "    </tr>\n",
       "    <tr>\n",
       "      <th>1</th>\n",
       "      <td>2</td>\n",
       "      <td>Prometheus</td>\n",
       "      <td>Adventure,Mystery,Sci-Fi</td>\n",
       "      <td>Following clues to the origin of mankind, a te...</td>\n",
       "      <td>Ridley Scott</td>\n",
       "      <td>Noomi Rapace, Logan Marshall-Green, Michael Fa...</td>\n",
       "      <td>2012</td>\n",
       "      <td>124</td>\n",
       "      <td>7.0</td>\n",
       "      <td>485820</td>\n",
       "      <td>126.46</td>\n",
       "      <td>65.0</td>\n",
       "    </tr>\n",
       "    <tr>\n",
       "      <th>2</th>\n",
       "      <td>3</td>\n",
       "      <td>Split</td>\n",
       "      <td>Horror,Thriller</td>\n",
       "      <td>Three girls are kidnapped by a man with a diag...</td>\n",
       "      <td>M. Night Shyamalan</td>\n",
       "      <td>James McAvoy, Anya Taylor-Joy, Haley Lu Richar...</td>\n",
       "      <td>2016</td>\n",
       "      <td>117</td>\n",
       "      <td>7.3</td>\n",
       "      <td>157606</td>\n",
       "      <td>138.12</td>\n",
       "      <td>62.0</td>\n",
       "    </tr>\n",
       "    <tr>\n",
       "      <th>3</th>\n",
       "      <td>4</td>\n",
       "      <td>Sing</td>\n",
       "      <td>Animation,Comedy,Family</td>\n",
       "      <td>In a city of humanoid animals, a hustling thea...</td>\n",
       "      <td>Christophe Lourdelet</td>\n",
       "      <td>Matthew McConaughey,Reese Witherspoon, Seth Ma...</td>\n",
       "      <td>2016</td>\n",
       "      <td>108</td>\n",
       "      <td>7.2</td>\n",
       "      <td>60545</td>\n",
       "      <td>270.32</td>\n",
       "      <td>59.0</td>\n",
       "    </tr>\n",
       "    <tr>\n",
       "      <th>4</th>\n",
       "      <td>5</td>\n",
       "      <td>Suicide Squad</td>\n",
       "      <td>Action,Adventure,Fantasy</td>\n",
       "      <td>A secret government agency recruits some of th...</td>\n",
       "      <td>David Ayer</td>\n",
       "      <td>Will Smith, Jared Leto, Margot Robbie, Viola D...</td>\n",
       "      <td>2016</td>\n",
       "      <td>123</td>\n",
       "      <td>6.2</td>\n",
       "      <td>393727</td>\n",
       "      <td>325.02</td>\n",
       "      <td>40.0</td>\n",
       "    </tr>\n",
       "    <tr>\n",
       "      <th>5</th>\n",
       "      <td>6</td>\n",
       "      <td>The Great Wall</td>\n",
       "      <td>Action,Adventure,Fantasy</td>\n",
       "      <td>European mercenaries searching for black powde...</td>\n",
       "      <td>Yimou Zhang</td>\n",
       "      <td>Matt Damon, Tian Jing, Willem Dafoe, Andy Lau</td>\n",
       "      <td>2016</td>\n",
       "      <td>103</td>\n",
       "      <td>6.1</td>\n",
       "      <td>56036</td>\n",
       "      <td>45.13</td>\n",
       "      <td>42.0</td>\n",
       "    </tr>\n",
       "    <tr>\n",
       "      <th>6</th>\n",
       "      <td>7</td>\n",
       "      <td>La La Land</td>\n",
       "      <td>Comedy,Drama,Music</td>\n",
       "      <td>A jazz pianist falls for an aspiring actress i...</td>\n",
       "      <td>Damien Chazelle</td>\n",
       "      <td>Ryan Gosling, Emma Stone, Rosemarie DeWitt, J....</td>\n",
       "      <td>2016</td>\n",
       "      <td>128</td>\n",
       "      <td>8.3</td>\n",
       "      <td>258682</td>\n",
       "      <td>151.06</td>\n",
       "      <td>93.0</td>\n",
       "    </tr>\n",
       "    <tr>\n",
       "      <th>7</th>\n",
       "      <td>8</td>\n",
       "      <td>Mindhorn</td>\n",
       "      <td>Comedy</td>\n",
       "      <td>A has-been actor best known for playing the ti...</td>\n",
       "      <td>Sean Foley</td>\n",
       "      <td>Essie Davis, Andrea Riseborough, Julian Barrat...</td>\n",
       "      <td>2016</td>\n",
       "      <td>89</td>\n",
       "      <td>6.4</td>\n",
       "      <td>2490</td>\n",
       "      <td>NaN</td>\n",
       "      <td>71.0</td>\n",
       "    </tr>\n",
       "    <tr>\n",
       "      <th>8</th>\n",
       "      <td>9</td>\n",
       "      <td>The Lost City of Z</td>\n",
       "      <td>Action,Adventure,Biography</td>\n",
       "      <td>A true-life drama, centering on British explor...</td>\n",
       "      <td>James Gray</td>\n",
       "      <td>Charlie Hunnam, Robert Pattinson, Sienna Mille...</td>\n",
       "      <td>2016</td>\n",
       "      <td>141</td>\n",
       "      <td>7.1</td>\n",
       "      <td>7188</td>\n",
       "      <td>8.01</td>\n",
       "      <td>78.0</td>\n",
       "    </tr>\n",
       "    <tr>\n",
       "      <th>9</th>\n",
       "      <td>10</td>\n",
       "      <td>Passengers</td>\n",
       "      <td>Adventure,Drama,Romance</td>\n",
       "      <td>A spacecraft traveling to a distant colony pla...</td>\n",
       "      <td>Morten Tyldum</td>\n",
       "      <td>Jennifer Lawrence, Chris Pratt, Michael Sheen,...</td>\n",
       "      <td>2016</td>\n",
       "      <td>116</td>\n",
       "      <td>7.0</td>\n",
       "      <td>192177</td>\n",
       "      <td>100.01</td>\n",
       "      <td>41.0</td>\n",
       "    </tr>\n",
       "  </tbody>\n",
       "</table>\n",
       "</div>"
      ],
      "text/plain": [
       "   Rank                    Title                       Genre  \\\n",
       "0     1  Guardians of the Galaxy     Action,Adventure,Sci-Fi   \n",
       "1     2               Prometheus    Adventure,Mystery,Sci-Fi   \n",
       "2     3                    Split             Horror,Thriller   \n",
       "3     4                     Sing     Animation,Comedy,Family   \n",
       "4     5            Suicide Squad    Action,Adventure,Fantasy   \n",
       "5     6           The Great Wall    Action,Adventure,Fantasy   \n",
       "6     7               La La Land          Comedy,Drama,Music   \n",
       "7     8                 Mindhorn                      Comedy   \n",
       "8     9       The Lost City of Z  Action,Adventure,Biography   \n",
       "9    10               Passengers     Adventure,Drama,Romance   \n",
       "\n",
       "                                         Description              Director  \\\n",
       "0  A group of intergalactic criminals are forced ...            James Gunn   \n",
       "1  Following clues to the origin of mankind, a te...          Ridley Scott   \n",
       "2  Three girls are kidnapped by a man with a diag...    M. Night Shyamalan   \n",
       "3  In a city of humanoid animals, a hustling thea...  Christophe Lourdelet   \n",
       "4  A secret government agency recruits some of th...            David Ayer   \n",
       "5  European mercenaries searching for black powde...           Yimou Zhang   \n",
       "6  A jazz pianist falls for an aspiring actress i...       Damien Chazelle   \n",
       "7  A has-been actor best known for playing the ti...            Sean Foley   \n",
       "8  A true-life drama, centering on British explor...            James Gray   \n",
       "9  A spacecraft traveling to a distant colony pla...         Morten Tyldum   \n",
       "\n",
       "                                              Actors  Year  Runtime (Minutes)  \\\n",
       "0  Chris Pratt, Vin Diesel, Bradley Cooper, Zoe S...  2014                121   \n",
       "1  Noomi Rapace, Logan Marshall-Green, Michael Fa...  2012                124   \n",
       "2  James McAvoy, Anya Taylor-Joy, Haley Lu Richar...  2016                117   \n",
       "3  Matthew McConaughey,Reese Witherspoon, Seth Ma...  2016                108   \n",
       "4  Will Smith, Jared Leto, Margot Robbie, Viola D...  2016                123   \n",
       "5      Matt Damon, Tian Jing, Willem Dafoe, Andy Lau  2016                103   \n",
       "6  Ryan Gosling, Emma Stone, Rosemarie DeWitt, J....  2016                128   \n",
       "7  Essie Davis, Andrea Riseborough, Julian Barrat...  2016                 89   \n",
       "8  Charlie Hunnam, Robert Pattinson, Sienna Mille...  2016                141   \n",
       "9  Jennifer Lawrence, Chris Pratt, Michael Sheen,...  2016                116   \n",
       "\n",
       "   Rating   Votes  Revenue (Millions)  Metascore  \n",
       "0     8.1  757074              333.13       76.0  \n",
       "1     7.0  485820              126.46       65.0  \n",
       "2     7.3  157606              138.12       62.0  \n",
       "3     7.2   60545              270.32       59.0  \n",
       "4     6.2  393727              325.02       40.0  \n",
       "5     6.1   56036               45.13       42.0  \n",
       "6     8.3  258682              151.06       93.0  \n",
       "7     6.4    2490                 NaN       71.0  \n",
       "8     7.1    7188                8.01       78.0  \n",
       "9     7.0  192177              100.01       41.0  "
      ]
     },
     "execution_count": 7,
     "metadata": {},
     "output_type": "execute_result"
    }
   ],
   "source": [
    "data.head(10)"
   ]
  },
  {
   "cell_type": "markdown",
   "id": "9ca14ceb-66a7-42da-a8e8-c4e89261bb28",
   "metadata": {},
   "source": [
    "# Display last 10 rows"
   ]
  },
  {
   "cell_type": "code",
   "execution_count": 10,
   "id": "bc0e1939-12e4-4ff7-8582-80245c69f9ca",
   "metadata": {
    "tags": []
   },
   "outputs": [
    {
     "data": {
      "text/html": [
       "<div>\n",
       "<style scoped>\n",
       "    .dataframe tbody tr th:only-of-type {\n",
       "        vertical-align: middle;\n",
       "    }\n",
       "\n",
       "    .dataframe tbody tr th {\n",
       "        vertical-align: top;\n",
       "    }\n",
       "\n",
       "    .dataframe thead th {\n",
       "        text-align: right;\n",
       "    }\n",
       "</style>\n",
       "<table border=\"1\" class=\"dataframe\">\n",
       "  <thead>\n",
       "    <tr style=\"text-align: right;\">\n",
       "      <th></th>\n",
       "      <th>Rank</th>\n",
       "      <th>Title</th>\n",
       "      <th>Genre</th>\n",
       "      <th>Description</th>\n",
       "      <th>Director</th>\n",
       "      <th>Actors</th>\n",
       "      <th>Year</th>\n",
       "      <th>Runtime (Minutes)</th>\n",
       "      <th>Rating</th>\n",
       "      <th>Votes</th>\n",
       "      <th>Revenue (Millions)</th>\n",
       "      <th>Metascore</th>\n",
       "    </tr>\n",
       "  </thead>\n",
       "  <tbody>\n",
       "    <tr>\n",
       "      <th>990</th>\n",
       "      <td>991</td>\n",
       "      <td>Underworld: Rise of the Lycans</td>\n",
       "      <td>Action,Adventure,Fantasy</td>\n",
       "      <td>An origins story centered on the centuries-old...</td>\n",
       "      <td>Patrick Tatopoulos</td>\n",
       "      <td>Rhona Mitra, Michael Sheen, Bill Nighy, Steven...</td>\n",
       "      <td>2009</td>\n",
       "      <td>92</td>\n",
       "      <td>6.6</td>\n",
       "      <td>129708</td>\n",
       "      <td>45.80</td>\n",
       "      <td>44.0</td>\n",
       "    </tr>\n",
       "    <tr>\n",
       "      <th>991</th>\n",
       "      <td>992</td>\n",
       "      <td>Taare Zameen Par</td>\n",
       "      <td>Drama,Family,Music</td>\n",
       "      <td>An eight-year-old boy is thought to be a lazy ...</td>\n",
       "      <td>Aamir Khan</td>\n",
       "      <td>Darsheel Safary, Aamir Khan, Tanay Chheda, Sac...</td>\n",
       "      <td>2007</td>\n",
       "      <td>165</td>\n",
       "      <td>8.5</td>\n",
       "      <td>102697</td>\n",
       "      <td>1.20</td>\n",
       "      <td>42.0</td>\n",
       "    </tr>\n",
       "    <tr>\n",
       "      <th>992</th>\n",
       "      <td>993</td>\n",
       "      <td>Take Me Home Tonight</td>\n",
       "      <td>Comedy,Drama,Romance</td>\n",
       "      <td>Four years after graduation, an awkward high s...</td>\n",
       "      <td>Michael Dowse</td>\n",
       "      <td>Topher Grace, Anna Faris, Dan Fogler, Teresa P...</td>\n",
       "      <td>2011</td>\n",
       "      <td>97</td>\n",
       "      <td>6.3</td>\n",
       "      <td>45419</td>\n",
       "      <td>6.92</td>\n",
       "      <td>NaN</td>\n",
       "    </tr>\n",
       "    <tr>\n",
       "      <th>993</th>\n",
       "      <td>994</td>\n",
       "      <td>Resident Evil: Afterlife</td>\n",
       "      <td>Action,Adventure,Horror</td>\n",
       "      <td>While still out to destroy the evil Umbrella C...</td>\n",
       "      <td>Paul W.S. Anderson</td>\n",
       "      <td>Milla Jovovich, Ali Larter, Wentworth Miller,K...</td>\n",
       "      <td>2010</td>\n",
       "      <td>97</td>\n",
       "      <td>5.9</td>\n",
       "      <td>140900</td>\n",
       "      <td>60.13</td>\n",
       "      <td>37.0</td>\n",
       "    </tr>\n",
       "    <tr>\n",
       "      <th>994</th>\n",
       "      <td>995</td>\n",
       "      <td>Project X</td>\n",
       "      <td>Comedy</td>\n",
       "      <td>3 high school seniors throw a birthday party t...</td>\n",
       "      <td>Nima Nourizadeh</td>\n",
       "      <td>Thomas Mann, Oliver Cooper, Jonathan Daniel Br...</td>\n",
       "      <td>2012</td>\n",
       "      <td>88</td>\n",
       "      <td>6.7</td>\n",
       "      <td>164088</td>\n",
       "      <td>54.72</td>\n",
       "      <td>48.0</td>\n",
       "    </tr>\n",
       "    <tr>\n",
       "      <th>995</th>\n",
       "      <td>996</td>\n",
       "      <td>Secret in Their Eyes</td>\n",
       "      <td>Crime,Drama,Mystery</td>\n",
       "      <td>A tight-knit team of rising investigators, alo...</td>\n",
       "      <td>Billy Ray</td>\n",
       "      <td>Chiwetel Ejiofor, Nicole Kidman, Julia Roberts...</td>\n",
       "      <td>2015</td>\n",
       "      <td>111</td>\n",
       "      <td>6.2</td>\n",
       "      <td>27585</td>\n",
       "      <td>NaN</td>\n",
       "      <td>45.0</td>\n",
       "    </tr>\n",
       "    <tr>\n",
       "      <th>996</th>\n",
       "      <td>997</td>\n",
       "      <td>Hostel: Part II</td>\n",
       "      <td>Horror</td>\n",
       "      <td>Three American college students studying abroa...</td>\n",
       "      <td>Eli Roth</td>\n",
       "      <td>Lauren German, Heather Matarazzo, Bijou Philli...</td>\n",
       "      <td>2007</td>\n",
       "      <td>94</td>\n",
       "      <td>5.5</td>\n",
       "      <td>73152</td>\n",
       "      <td>17.54</td>\n",
       "      <td>46.0</td>\n",
       "    </tr>\n",
       "    <tr>\n",
       "      <th>997</th>\n",
       "      <td>998</td>\n",
       "      <td>Step Up 2: The Streets</td>\n",
       "      <td>Drama,Music,Romance</td>\n",
       "      <td>Romantic sparks occur between two dance studen...</td>\n",
       "      <td>Jon M. Chu</td>\n",
       "      <td>Robert Hoffman, Briana Evigan, Cassie Ventura,...</td>\n",
       "      <td>2008</td>\n",
       "      <td>98</td>\n",
       "      <td>6.2</td>\n",
       "      <td>70699</td>\n",
       "      <td>58.01</td>\n",
       "      <td>50.0</td>\n",
       "    </tr>\n",
       "    <tr>\n",
       "      <th>998</th>\n",
       "      <td>999</td>\n",
       "      <td>Search Party</td>\n",
       "      <td>Adventure,Comedy</td>\n",
       "      <td>A pair of friends embark on a mission to reuni...</td>\n",
       "      <td>Scot Armstrong</td>\n",
       "      <td>Adam Pally, T.J. Miller, Thomas Middleditch,Sh...</td>\n",
       "      <td>2014</td>\n",
       "      <td>93</td>\n",
       "      <td>5.6</td>\n",
       "      <td>4881</td>\n",
       "      <td>NaN</td>\n",
       "      <td>22.0</td>\n",
       "    </tr>\n",
       "    <tr>\n",
       "      <th>999</th>\n",
       "      <td>1000</td>\n",
       "      <td>Nine Lives</td>\n",
       "      <td>Comedy,Family,Fantasy</td>\n",
       "      <td>A stuffy businessman finds himself trapped ins...</td>\n",
       "      <td>Barry Sonnenfeld</td>\n",
       "      <td>Kevin Spacey, Jennifer Garner, Robbie Amell,Ch...</td>\n",
       "      <td>2016</td>\n",
       "      <td>87</td>\n",
       "      <td>5.3</td>\n",
       "      <td>12435</td>\n",
       "      <td>19.64</td>\n",
       "      <td>11.0</td>\n",
       "    </tr>\n",
       "  </tbody>\n",
       "</table>\n",
       "</div>"
      ],
      "text/plain": [
       "     Rank                           Title                     Genre  \\\n",
       "990   991  Underworld: Rise of the Lycans  Action,Adventure,Fantasy   \n",
       "991   992                Taare Zameen Par        Drama,Family,Music   \n",
       "992   993            Take Me Home Tonight      Comedy,Drama,Romance   \n",
       "993   994        Resident Evil: Afterlife   Action,Adventure,Horror   \n",
       "994   995                       Project X                    Comedy   \n",
       "995   996            Secret in Their Eyes       Crime,Drama,Mystery   \n",
       "996   997                 Hostel: Part II                    Horror   \n",
       "997   998          Step Up 2: The Streets       Drama,Music,Romance   \n",
       "998   999                    Search Party          Adventure,Comedy   \n",
       "999  1000                      Nine Lives     Comedy,Family,Fantasy   \n",
       "\n",
       "                                           Description            Director  \\\n",
       "990  An origins story centered on the centuries-old...  Patrick Tatopoulos   \n",
       "991  An eight-year-old boy is thought to be a lazy ...          Aamir Khan   \n",
       "992  Four years after graduation, an awkward high s...       Michael Dowse   \n",
       "993  While still out to destroy the evil Umbrella C...  Paul W.S. Anderson   \n",
       "994  3 high school seniors throw a birthday party t...     Nima Nourizadeh   \n",
       "995  A tight-knit team of rising investigators, alo...           Billy Ray   \n",
       "996  Three American college students studying abroa...            Eli Roth   \n",
       "997  Romantic sparks occur between two dance studen...          Jon M. Chu   \n",
       "998  A pair of friends embark on a mission to reuni...      Scot Armstrong   \n",
       "999  A stuffy businessman finds himself trapped ins...    Barry Sonnenfeld   \n",
       "\n",
       "                                                Actors  Year  \\\n",
       "990  Rhona Mitra, Michael Sheen, Bill Nighy, Steven...  2009   \n",
       "991  Darsheel Safary, Aamir Khan, Tanay Chheda, Sac...  2007   \n",
       "992  Topher Grace, Anna Faris, Dan Fogler, Teresa P...  2011   \n",
       "993  Milla Jovovich, Ali Larter, Wentworth Miller,K...  2010   \n",
       "994  Thomas Mann, Oliver Cooper, Jonathan Daniel Br...  2012   \n",
       "995  Chiwetel Ejiofor, Nicole Kidman, Julia Roberts...  2015   \n",
       "996  Lauren German, Heather Matarazzo, Bijou Philli...  2007   \n",
       "997  Robert Hoffman, Briana Evigan, Cassie Ventura,...  2008   \n",
       "998  Adam Pally, T.J. Miller, Thomas Middleditch,Sh...  2014   \n",
       "999  Kevin Spacey, Jennifer Garner, Robbie Amell,Ch...  2016   \n",
       "\n",
       "     Runtime (Minutes)  Rating   Votes  Revenue (Millions)  Metascore  \n",
       "990                 92     6.6  129708               45.80       44.0  \n",
       "991                165     8.5  102697                1.20       42.0  \n",
       "992                 97     6.3   45419                6.92        NaN  \n",
       "993                 97     5.9  140900               60.13       37.0  \n",
       "994                 88     6.7  164088               54.72       48.0  \n",
       "995                111     6.2   27585                 NaN       45.0  \n",
       "996                 94     5.5   73152               17.54       46.0  \n",
       "997                 98     6.2   70699               58.01       50.0  \n",
       "998                 93     5.6    4881                 NaN       22.0  \n",
       "999                 87     5.3   12435               19.64       11.0  "
      ]
     },
     "execution_count": 10,
     "metadata": {},
     "output_type": "execute_result"
    }
   ],
   "source": [
    "data.tail(10)"
   ]
  },
  {
   "cell_type": "markdown",
   "id": "74a69ae4-e369-4ed1-9656-664696fa73df",
   "metadata": {},
   "source": [
    "# Find the shape of our dataset"
   ]
  },
  {
   "cell_type": "code",
   "execution_count": 13,
   "id": "042cfdc9-b004-4323-9167-4e247f6ee79d",
   "metadata": {
    "tags": []
   },
   "outputs": [
    {
     "data": {
      "text/plain": [
       "(1000, 12)"
      ]
     },
     "execution_count": 13,
     "metadata": {},
     "output_type": "execute_result"
    }
   ],
   "source": [
    "data.shape"
   ]
  },
  {
   "cell_type": "code",
   "execution_count": 17,
   "id": "3ab84166-bb25-4dcd-bb1f-6b94c60b104b",
   "metadata": {
    "tags": []
   },
   "outputs": [
    {
     "name": "stdout",
     "output_type": "stream",
     "text": [
      "Number of rows 1000\n",
      "Number of columns 12\n"
     ]
    }
   ],
   "source": [
    "print(\"Number of rows\", data.shape[0])\n",
    "print(\"Number of columns\", data.shape[1])"
   ]
  },
  {
   "cell_type": "markdown",
   "id": "404e304c-39b4-45ac-90db-83cfba1da8ae",
   "metadata": {},
   "source": [
    "# Getting information of our dataset"
   ]
  },
  {
   "cell_type": "code",
   "execution_count": 22,
   "id": "4ab4935e-1c12-47ec-92d9-2b407605f5e0",
   "metadata": {
    "tags": []
   },
   "outputs": [
    {
     "name": "stdout",
     "output_type": "stream",
     "text": [
      "<class 'pandas.core.frame.DataFrame'>\n",
      "RangeIndex: 1000 entries, 0 to 999\n",
      "Data columns (total 12 columns):\n",
      " #   Column              Non-Null Count  Dtype  \n",
      "---  ------              --------------  -----  \n",
      " 0   Rank                1000 non-null   int64  \n",
      " 1   Title               1000 non-null   object \n",
      " 2   Genre               1000 non-null   object \n",
      " 3   Description         1000 non-null   object \n",
      " 4   Director            1000 non-null   object \n",
      " 5   Actors              1000 non-null   object \n",
      " 6   Year                1000 non-null   int64  \n",
      " 7   Runtime (Minutes)   1000 non-null   int64  \n",
      " 8   Rating              1000 non-null   float64\n",
      " 9   Votes               1000 non-null   int64  \n",
      " 10  Revenue (Millions)  872 non-null    float64\n",
      " 11  Metascore           936 non-null    float64\n",
      "dtypes: float64(3), int64(4), object(5)\n",
      "memory usage: 93.9+ KB\n"
     ]
    }
   ],
   "source": [
    "data.info()"
   ]
  },
  {
   "cell_type": "markdown",
   "id": "4fa2b521-71ef-49e4-82ca-a530208040d8",
   "metadata": {},
   "source": [
    "# Check Missing values in the dataset"
   ]
  },
  {
   "cell_type": "code",
   "execution_count": 27,
   "id": "0364ed78-1d4b-4684-9386-6126de1f350d",
   "metadata": {
    "tags": []
   },
   "outputs": [
    {
     "data": {
      "text/plain": [
       "Rank                    0\n",
       "Title                   0\n",
       "Genre                   0\n",
       "Description             0\n",
       "Director                0\n",
       "Actors                  0\n",
       "Year                    0\n",
       "Runtime (Minutes)       0\n",
       "Rating                  0\n",
       "Votes                   0\n",
       "Revenue (Millions)    128\n",
       "Metascore              64\n",
       "dtype: int64"
      ]
     },
     "execution_count": 27,
     "metadata": {},
     "output_type": "execute_result"
    }
   ],
   "source": [
    " data.isnull().sum()"
   ]
  },
  {
   "cell_type": "code",
   "execution_count": 29,
   "id": "22f08665-48ce-4c6f-8c4e-51b2742c31ee",
   "metadata": {
    "tags": []
   },
   "outputs": [
    {
     "data": {
      "text/plain": [
       "<Axes: >"
      ]
     },
     "execution_count": 29,
     "metadata": {},
     "output_type": "execute_result"
    },
    {
     "data": {
      "image/png": "[encoded data removed]",
      "text/plain": [
       "<Figure size 640x480 with 2 Axes>"
      ]
     },
     "metadata": {},
     "output_type": "display_data"
    }
   ],
   "source": [
    "sns.heatmap(data.isnull())"
   ]
  },
  {
   "cell_type": "code",
   "execution_count": 37,
   "id": "8b860e0d-4d29-476e-8ad0-06cd09931d48",
   "metadata": {
    "tags": []
   },
   "outputs": [
    {
     "data": {
      "text/plain": [
       "Rank                   0.0\n",
       "Title                  0.0\n",
       "Genre                  0.0\n",
       "Description            0.0\n",
       "Director               0.0\n",
       "Actors                 0.0\n",
       "Year                   0.0\n",
       "Runtime (Minutes)      0.0\n",
       "Rating                 0.0\n",
       "Votes                  0.0\n",
       "Revenue (Millions)    12.8\n",
       "Metascore              6.4\n",
       "dtype: float64"
      ]
     },
     "execution_count": 37,
     "metadata": {},
     "output_type": "execute_result"
    }
   ],
   "source": [
    "per_missing =data.isnull().sum()*100/len(data)\n",
    "per_missing"
   ]
  },
  {
   "cell_type": "markdown",
   "id": "3bac189a-4484-4e84-8358-54c7a9746deb",
   "metadata": {
    "tags": []
   },
   "source": [
    "# Drop all the missing values"
   ]
  },
  {
   "cell_type": "code",
   "execution_count": 41,
   "id": "2e93a131-6f5c-4aad-9340-4d7ae3fe0de7",
   "metadata": {
    "tags": []
   },
   "outputs": [
    {
     "data": {
      "text/html": [
       "<div>\n",
       "<style scoped>\n",
       "    .dataframe tbody tr th:only-of-type {\n",
       "        vertical-align: middle;\n",
       "    }\n",
       "\n",
       "    .dataframe tbody tr th {\n",
       "        vertical-align: top;\n",
       "    }\n",
       "\n",
       "    .dataframe thead th {\n",
       "        text-align: right;\n",
       "    }\n",
       "</style>\n",
       "<table border=\"1\" class=\"dataframe\">\n",
       "  <thead>\n",
       "    <tr style=\"text-align: right;\">\n",
       "      <th></th>\n",
       "      <th>Rank</th>\n",
       "      <th>Title</th>\n",
       "      <th>Genre</th>\n",
       "      <th>Description</th>\n",
       "      <th>Director</th>\n",
       "      <th>Actors</th>\n",
       "      <th>Year</th>\n",
       "      <th>Runtime (Minutes)</th>\n",
       "      <th>Rating</th>\n",
       "      <th>Votes</th>\n",
       "      <th>Revenue (Millions)</th>\n",
       "      <th>Metascore</th>\n",
       "    </tr>\n",
       "  </thead>\n",
       "  <tbody>\n",
       "    <tr>\n",
       "      <th>0</th>\n",
       "      <td>1</td>\n",
       "      <td>Guardians of the Galaxy</td>\n",
       "      <td>Action,Adventure,Sci-Fi</td>\n",
       "      <td>A group of intergalactic criminals are forced ...</td>\n",
       "      <td>James Gunn</td>\n",
       "      <td>Chris Pratt, Vin Diesel, Bradley Cooper, Zoe S...</td>\n",
       "      <td>2014</td>\n",
       "      <td>121</td>\n",
       "      <td>8.1</td>\n",
       "      <td>757074</td>\n",
       "      <td>333.13</td>\n",
       "      <td>76.0</td>\n",
       "    </tr>\n",
       "    <tr>\n",
       "      <th>1</th>\n",
       "      <td>2</td>\n",
       "      <td>Prometheus</td>\n",
       "      <td>Adventure,Mystery,Sci-Fi</td>\n",
       "      <td>Following clues to the origin of mankind, a te...</td>\n",
       "      <td>Ridley Scott</td>\n",
       "      <td>Noomi Rapace, Logan Marshall-Green, Michael Fa...</td>\n",
       "      <td>2012</td>\n",
       "      <td>124</td>\n",
       "      <td>7.0</td>\n",
       "      <td>485820</td>\n",
       "      <td>126.46</td>\n",
       "      <td>65.0</td>\n",
       "    </tr>\n",
       "    <tr>\n",
       "      <th>2</th>\n",
       "      <td>3</td>\n",
       "      <td>Split</td>\n",
       "      <td>Horror,Thriller</td>\n",
       "      <td>Three girls are kidnapped by a man with a diag...</td>\n",
       "      <td>M. Night Shyamalan</td>\n",
       "      <td>James McAvoy, Anya Taylor-Joy, Haley Lu Richar...</td>\n",
       "      <td>2016</td>\n",
       "      <td>117</td>\n",
       "      <td>7.3</td>\n",
       "      <td>157606</td>\n",
       "      <td>138.12</td>\n",
       "      <td>62.0</td>\n",
       "    </tr>\n",
       "    <tr>\n",
       "      <th>3</th>\n",
       "      <td>4</td>\n",
       "      <td>Sing</td>\n",
       "      <td>Animation,Comedy,Family</td>\n",
       "      <td>In a city of humanoid animals, a hustling thea...</td>\n",
       "      <td>Christophe Lourdelet</td>\n",
       "      <td>Matthew McConaughey,Reese Witherspoon, Seth Ma...</td>\n",
       "      <td>2016</td>\n",
       "      <td>108</td>\n",
       "      <td>7.2</td>\n",
       "      <td>60545</td>\n",
       "      <td>270.32</td>\n",
       "      <td>59.0</td>\n",
       "    </tr>\n",
       "    <tr>\n",
       "      <th>4</th>\n",
       "      <td>5</td>\n",
       "      <td>Suicide Squad</td>\n",
       "      <td>Action,Adventure,Fantasy</td>\n",
       "      <td>A secret government agency recruits some of th...</td>\n",
       "      <td>David Ayer</td>\n",
       "      <td>Will Smith, Jared Leto, Margot Robbie, Viola D...</td>\n",
       "      <td>2016</td>\n",
       "      <td>123</td>\n",
       "      <td>6.2</td>\n",
       "      <td>393727</td>\n",
       "      <td>325.02</td>\n",
       "      <td>40.0</td>\n",
       "    </tr>\n",
       "    <tr>\n",
       "      <th>...</th>\n",
       "      <td>...</td>\n",
       "      <td>...</td>\n",
       "      <td>...</td>\n",
       "      <td>...</td>\n",
       "      <td>...</td>\n",
       "      <td>...</td>\n",
       "      <td>...</td>\n",
       "      <td>...</td>\n",
       "      <td>...</td>\n",
       "      <td>...</td>\n",
       "      <td>...</td>\n",
       "      <td>...</td>\n",
       "    </tr>\n",
       "    <tr>\n",
       "      <th>993</th>\n",
       "      <td>994</td>\n",
       "      <td>Resident Evil: Afterlife</td>\n",
       "      <td>Action,Adventure,Horror</td>\n",
       "      <td>While still out to destroy the evil Umbrella C...</td>\n",
       "      <td>Paul W.S. Anderson</td>\n",
       "      <td>Milla Jovovich, Ali Larter, Wentworth Miller,K...</td>\n",
       "      <td>2010</td>\n",
       "      <td>97</td>\n",
       "      <td>5.9</td>\n",
       "      <td>140900</td>\n",
       "      <td>60.13</td>\n",
       "      <td>37.0</td>\n",
       "    </tr>\n",
       "    <tr>\n",
       "      <th>994</th>\n",
       "      <td>995</td>\n",
       "      <td>Project X</td>\n",
       "      <td>Comedy</td>\n",
       "      <td>3 high school seniors throw a birthday party t...</td>\n",
       "      <td>Nima Nourizadeh</td>\n",
       "      <td>Thomas Mann, Oliver Cooper, Jonathan Daniel Br...</td>\n",
       "      <td>2012</td>\n",
       "      <td>88</td>\n",
       "      <td>6.7</td>\n",
       "      <td>164088</td>\n",
       "      <td>54.72</td>\n",
       "      <td>48.0</td>\n",
       "    </tr>\n",
       "    <tr>\n",
       "      <th>996</th>\n",
       "      <td>997</td>\n",
       "      <td>Hostel: Part II</td>\n",
       "      <td>Horror</td>\n",
       "      <td>Three American college students studying abroa...</td>\n",
       "      <td>Eli Roth</td>\n",
       "      <td>Lauren German, Heather Matarazzo, Bijou Philli...</td>\n",
       "      <td>2007</td>\n",
       "      <td>94</td>\n",
       "      <td>5.5</td>\n",
       "      <td>73152</td>\n",
       "      <td>17.54</td>\n",
       "      <td>46.0</td>\n",
       "    </tr>\n",
       "    <tr>\n",
       "      <th>997</th>\n",
       "      <td>998</td>\n",
       "      <td>Step Up 2: The Streets</td>\n",
       "      <td>Drama,Music,Romance</td>\n",
       "      <td>Romantic sparks occur between two dance studen...</td>\n",
       "      <td>Jon M. Chu</td>\n",
       "      <td>Robert Hoffman, Briana Evigan, Cassie Ventura,...</td>\n",
       "      <td>2008</td>\n",
       "      <td>98</td>\n",
       "      <td>6.2</td>\n",
       "      <td>70699</td>\n",
       "      <td>58.01</td>\n",
       "      <td>50.0</td>\n",
       "    </tr>\n",
       "    <tr>\n",
       "      <th>999</th>\n",
       "      <td>1000</td>\n",
       "      <td>Nine Lives</td>\n",
       "      <td>Comedy,Family,Fantasy</td>\n",
       "      <td>A stuffy businessman finds himself trapped ins...</td>\n",
       "      <td>Barry Sonnenfeld</td>\n",
       "      <td>Kevin Spacey, Jennifer Garner, Robbie Amell,Ch...</td>\n",
       "      <td>2016</td>\n",
       "      <td>87</td>\n",
       "      <td>5.3</td>\n",
       "      <td>12435</td>\n",
       "      <td>19.64</td>\n",
       "      <td>11.0</td>\n",
       "    </tr>\n",
       "  </tbody>\n",
       "</table>\n",
       "<p>838 rows × 12 columns</p>\n",
       "</div>"
      ],
      "text/plain": [
       "     Rank                     Title                     Genre  \\\n",
       "0       1   Guardians of the Galaxy   Action,Adventure,Sci-Fi   \n",
       "1       2                Prometheus  Adventure,Mystery,Sci-Fi   \n",
       "2       3                     Split           Horror,Thriller   \n",
       "3       4                      Sing   Animation,Comedy,Family   \n",
       "4       5             Suicide Squad  Action,Adventure,Fantasy   \n",
       "..    ...                       ...                       ...   \n",
       "993   994  Resident Evil: Afterlife   Action,Adventure,Horror   \n",
       "994   995                 Project X                    Comedy   \n",
       "996   997           Hostel: Part II                    Horror   \n",
       "997   998    Step Up 2: The Streets       Drama,Music,Romance   \n",
       "999  1000                Nine Lives     Comedy,Family,Fantasy   \n",
       "\n",
       "                                           Description              Director  \\\n",
       "0    A group of intergalactic criminals are forced ...            James Gunn   \n",
       "1    Following clues to the origin of mankind, a te...          Ridley Scott   \n",
       "2    Three girls are kidnapped by a man with a diag...    M. Night Shyamalan   \n",
       "3    In a city of humanoid animals, a hustling thea...  Christophe Lourdelet   \n",
       "4    A secret government agency recruits some of th...            David Ayer   \n",
       "..                                                 ...                   ...   \n",
       "993  While still out to destroy the evil Umbrella C...    Paul W.S. Anderson   \n",
       "994  3 high school seniors throw a birthday party t...       Nima Nourizadeh   \n",
       "996  Three American college students studying abroa...              Eli Roth   \n",
       "997  Romantic sparks occur between two dance studen...            Jon M. Chu   \n",
       "999  A stuffy businessman finds himself trapped ins...      Barry Sonnenfeld   \n",
       "\n",
       "                                                Actors  Year  \\\n",
       "0    Chris Pratt, Vin Diesel, Bradley Cooper, Zoe S...  2014   \n",
       "1    Noomi Rapace, Logan Marshall-Green, Michael Fa...  2012   \n",
       "2    James McAvoy, Anya Taylor-Joy, Haley Lu Richar...  2016   \n",
       "3    Matthew McConaughey,Reese Witherspoon, Seth Ma...  2016   \n",
       "4    Will Smith, Jared Leto, Margot Robbie, Viola D...  2016   \n",
       "..                                                 ...   ...   \n",
       "993  Milla Jovovich, Ali Larter, Wentworth Miller,K...  2010   \n",
       "994  Thomas Mann, Oliver Cooper, Jonathan Daniel Br...  2012   \n",
       "996  Lauren German, Heather Matarazzo, Bijou Philli...  2007   \n",
       "997  Robert Hoffman, Briana Evigan, Cassie Ventura,...  2008   \n",
       "999  Kevin Spacey, Jennifer Garner, Robbie Amell,Ch...  2016   \n",
       "\n",
       "     Runtime (Minutes)  Rating   Votes  Revenue (Millions)  Metascore  \n",
       "0                  121     8.1  757074              333.13       76.0  \n",
       "1                  124     7.0  485820              126.46       65.0  \n",
       "2                  117     7.3  157606              138.12       62.0  \n",
       "3                  108     7.2   60545              270.32       59.0  \n",
       "4                  123     6.2  393727              325.02       40.0  \n",
       "..                 ...     ...     ...                 ...        ...  \n",
       "993                 97     5.9  140900               60.13       37.0  \n",
       "994                 88     6.7  164088               54.72       48.0  \n",
       "996                 94     5.5   73152               17.54       46.0  \n",
       "997                 98     6.2   70699               58.01       50.0  \n",
       "999                 87     5.3   12435               19.64       11.0  \n",
       "\n",
       "[838 rows x 12 columns]"
      ]
     },
     "execution_count": 41,
     "metadata": {},
     "output_type": "execute_result"
    }
   ],
   "source": [
    "data.dropna(axis =0)"
   ]
  },
  {
   "cell_type": "markdown",
   "id": "6bec3e2a-a6f9-4579-9f8f-6be4a7385b58",
   "metadata": {},
   "source": [
    "# check for duplicate values"
   ]
  },
  {
   "cell_type": "code",
   "execution_count": 44,
   "id": "25e7de78-455f-4655-b073-24c04c67c17d",
   "metadata": {
    "tags": []
   },
   "outputs": [],
   "source": [
    "dup_data=data.duplicated().any()"
   ]
  },
  {
   "cell_type": "code",
   "execution_count": 46,
   "id": "46ce4a57-9849-4085-8f69-92df55544afb",
   "metadata": {
    "tags": []
   },
   "outputs": [
    {
     "name": "stdout",
     "output_type": "stream",
     "text": [
      "False\n"
     ]
    }
   ],
   "source": [
    "print(dup_data)"
   ]
  },
  {
   "cell_type": "code",
   "execution_count": 48,
   "id": "34dafcb0-cd00-427c-856d-67d86f6fe978",
   "metadata": {
    "tags": []
   },
   "outputs": [
    {
     "data": {
      "text/html": [
       "<div>\n",
       "<style scoped>\n",
       "    .dataframe tbody tr th:only-of-type {\n",
       "        vertical-align: middle;\n",
       "    }\n",
       "\n",
       "    .dataframe tbody tr th {\n",
       "        vertical-align: top;\n",
       "    }\n",
       "\n",
       "    .dataframe thead th {\n",
       "        text-align: right;\n",
       "    }\n",
       "</style>\n",
       "<table border=\"1\" class=\"dataframe\">\n",
       "  <thead>\n",
       "    <tr style=\"text-align: right;\">\n",
       "      <th></th>\n",
       "      <th>Rank</th>\n",
       "      <th>Title</th>\n",
       "      <th>Genre</th>\n",
       "      <th>Description</th>\n",
       "      <th>Director</th>\n",
       "      <th>Actors</th>\n",
       "      <th>Year</th>\n",
       "      <th>Runtime (Minutes)</th>\n",
       "      <th>Rating</th>\n",
       "      <th>Votes</th>\n",
       "      <th>Revenue (Millions)</th>\n",
       "      <th>Metascore</th>\n",
       "    </tr>\n",
       "  </thead>\n",
       "  <tbody>\n",
       "    <tr>\n",
       "      <th>0</th>\n",
       "      <td>1</td>\n",
       "      <td>Guardians of the Galaxy</td>\n",
       "      <td>Action,Adventure,Sci-Fi</td>\n",
       "      <td>A group of intergalactic criminals are forced ...</td>\n",
       "      <td>James Gunn</td>\n",
       "      <td>Chris Pratt, Vin Diesel, Bradley Cooper, Zoe S...</td>\n",
       "      <td>2014</td>\n",
       "      <td>121</td>\n",
       "      <td>8.1</td>\n",
       "      <td>757074</td>\n",
       "      <td>333.13</td>\n",
       "      <td>76.0</td>\n",
       "    </tr>\n",
       "    <tr>\n",
       "      <th>1</th>\n",
       "      <td>2</td>\n",
       "      <td>Prometheus</td>\n",
       "      <td>Adventure,Mystery,Sci-Fi</td>\n",
       "      <td>Following clues to the origin of mankind, a te...</td>\n",
       "      <td>Ridley Scott</td>\n",
       "      <td>Noomi Rapace, Logan Marshall-Green, Michael Fa...</td>\n",
       "      <td>2012</td>\n",
       "      <td>124</td>\n",
       "      <td>7.0</td>\n",
       "      <td>485820</td>\n",
       "      <td>126.46</td>\n",
       "      <td>65.0</td>\n",
       "    </tr>\n",
       "    <tr>\n",
       "      <th>2</th>\n",
       "      <td>3</td>\n",
       "      <td>Split</td>\n",
       "      <td>Horror,Thriller</td>\n",
       "      <td>Three girls are kidnapped by a man with a diag...</td>\n",
       "      <td>M. Night Shyamalan</td>\n",
       "      <td>James McAvoy, Anya Taylor-Joy, Haley Lu Richar...</td>\n",
       "      <td>2016</td>\n",
       "      <td>117</td>\n",
       "      <td>7.3</td>\n",
       "      <td>157606</td>\n",
       "      <td>138.12</td>\n",
       "      <td>62.0</td>\n",
       "    </tr>\n",
       "    <tr>\n",
       "      <th>3</th>\n",
       "      <td>4</td>\n",
       "      <td>Sing</td>\n",
       "      <td>Animation,Comedy,Family</td>\n",
       "      <td>In a city of humanoid animals, a hustling thea...</td>\n",
       "      <td>Christophe Lourdelet</td>\n",
       "      <td>Matthew McConaughey,Reese Witherspoon, Seth Ma...</td>\n",
       "      <td>2016</td>\n",
       "      <td>108</td>\n",
       "      <td>7.2</td>\n",
       "      <td>60545</td>\n",
       "      <td>270.32</td>\n",
       "      <td>59.0</td>\n",
       "    </tr>\n",
       "    <tr>\n",
       "      <th>4</th>\n",
       "      <td>5</td>\n",
       "      <td>Suicide Squad</td>\n",
       "      <td>Action,Adventure,Fantasy</td>\n",
       "      <td>A secret government agency recruits some of th...</td>\n",
       "      <td>David Ayer</td>\n",
       "      <td>Will Smith, Jared Leto, Margot Robbie, Viola D...</td>\n",
       "      <td>2016</td>\n",
       "      <td>123</td>\n",
       "      <td>6.2</td>\n",
       "      <td>393727</td>\n",
       "      <td>325.02</td>\n",
       "      <td>40.0</td>\n",
       "    </tr>\n",
       "    <tr>\n",
       "      <th>...</th>\n",
       "      <td>...</td>\n",
       "      <td>...</td>\n",
       "      <td>...</td>\n",
       "      <td>...</td>\n",
       "      <td>...</td>\n",
       "      <td>...</td>\n",
       "      <td>...</td>\n",
       "      <td>...</td>\n",
       "      <td>...</td>\n",
       "      <td>...</td>\n",
       "      <td>...</td>\n",
       "      <td>...</td>\n",
       "    </tr>\n",
       "    <tr>\n",
       "      <th>995</th>\n",
       "      <td>996</td>\n",
       "      <td>Secret in Their Eyes</td>\n",
       "      <td>Crime,Drama,Mystery</td>\n",
       "      <td>A tight-knit team of rising investigators, alo...</td>\n",
       "      <td>Billy Ray</td>\n",
       "      <td>Chiwetel Ejiofor, Nicole Kidman, Julia Roberts...</td>\n",
       "      <td>2015</td>\n",
       "      <td>111</td>\n",
       "      <td>6.2</td>\n",
       "      <td>27585</td>\n",
       "      <td>NaN</td>\n",
       "      <td>45.0</td>\n",
       "    </tr>\n",
       "    <tr>\n",
       "      <th>996</th>\n",
       "      <td>997</td>\n",
       "      <td>Hostel: Part II</td>\n",
       "      <td>Horror</td>\n",
       "      <td>Three American college students studying abroa...</td>\n",
       "      <td>Eli Roth</td>\n",
       "      <td>Lauren German, Heather Matarazzo, Bijou Philli...</td>\n",
       "      <td>2007</td>\n",
       "      <td>94</td>\n",
       "      <td>5.5</td>\n",
       "      <td>73152</td>\n",
       "      <td>17.54</td>\n",
       "      <td>46.0</td>\n",
       "    </tr>\n",
       "    <tr>\n",
       "      <th>997</th>\n",
       "      <td>998</td>\n",
       "      <td>Step Up 2: The Streets</td>\n",
       "      <td>Drama,Music,Romance</td>\n",
       "      <td>Romantic sparks occur between two dance studen...</td>\n",
       "      <td>Jon M. Chu</td>\n",
       "      <td>Robert Hoffman, Briana Evigan, Cassie Ventura,...</td>\n",
       "      <td>2008</td>\n",
       "      <td>98</td>\n",
       "      <td>6.2</td>\n",
       "      <td>70699</td>\n",
       "      <td>58.01</td>\n",
       "      <td>50.0</td>\n",
       "    </tr>\n",
       "    <tr>\n",
       "      <th>998</th>\n",
       "      <td>999</td>\n",
       "      <td>Search Party</td>\n",
       "      <td>Adventure,Comedy</td>\n",
       "      <td>A pair of friends embark on a mission to reuni...</td>\n",
       "      <td>Scot Armstrong</td>\n",
       "      <td>Adam Pally, T.J. Miller, Thomas Middleditch,Sh...</td>\n",
       "      <td>2014</td>\n",
       "      <td>93</td>\n",
       "      <td>5.6</td>\n",
       "      <td>4881</td>\n",
       "      <td>NaN</td>\n",
       "      <td>22.0</td>\n",
       "    </tr>\n",
       "    <tr>\n",
       "      <th>999</th>\n",
       "      <td>1000</td>\n",
       "      <td>Nine Lives</td>\n",
       "      <td>Comedy,Family,Fantasy</td>\n",
       "      <td>A stuffy businessman finds himself trapped ins...</td>\n",
       "      <td>Barry Sonnenfeld</td>\n",
       "      <td>Kevin Spacey, Jennifer Garner, Robbie Amell,Ch...</td>\n",
       "      <td>2016</td>\n",
       "      <td>87</td>\n",
       "      <td>5.3</td>\n",
       "      <td>12435</td>\n",
       "      <td>19.64</td>\n",
       "      <td>11.0</td>\n",
       "    </tr>\n",
       "  </tbody>\n",
       "</table>\n",
       "<p>1000 rows × 12 columns</p>\n",
       "</div>"
      ],
      "text/plain": [
       "     Rank                    Title                     Genre  \\\n",
       "0       1  Guardians of the Galaxy   Action,Adventure,Sci-Fi   \n",
       "1       2               Prometheus  Adventure,Mystery,Sci-Fi   \n",
       "2       3                    Split           Horror,Thriller   \n",
       "3       4                     Sing   Animation,Comedy,Family   \n",
       "4       5            Suicide Squad  Action,Adventure,Fantasy   \n",
       "..    ...                      ...                       ...   \n",
       "995   996     Secret in Their Eyes       Crime,Drama,Mystery   \n",
       "996   997          Hostel: Part II                    Horror   \n",
       "997   998   Step Up 2: The Streets       Drama,Music,Romance   \n",
       "998   999             Search Party          Adventure,Comedy   \n",
       "999  1000               Nine Lives     Comedy,Family,Fantasy   \n",
       "\n",
       "                                           Description              Director  \\\n",
       "0    A group of intergalactic criminals are forced ...            James Gunn   \n",
       "1    Following clues to the origin of mankind, a te...          Ridley Scott   \n",
       "2    Three girls are kidnapped by a man with a diag...    M. Night Shyamalan   \n",
       "3    In a city of humanoid animals, a hustling thea...  Christophe Lourdelet   \n",
       "4    A secret government agency recruits some of th...            David Ayer   \n",
       "..                                                 ...                   ...   \n",
       "995  A tight-knit team of rising investigators, alo...             Billy Ray   \n",
       "996  Three American college students studying abroa...              Eli Roth   \n",
       "997  Romantic sparks occur between two dance studen...            Jon M. Chu   \n",
       "998  A pair of friends embark on a mission to reuni...        Scot Armstrong   \n",
       "999  A stuffy businessman finds himself trapped ins...      Barry Sonnenfeld   \n",
       "\n",
       "                                                Actors  Year  \\\n",
       "0    Chris Pratt, Vin Diesel, Bradley Cooper, Zoe S...  2014   \n",
       "1    Noomi Rapace, Logan Marshall-Green, Michael Fa...  2012   \n",
       "2    James McAvoy, Anya Taylor-Joy, Haley Lu Richar...  2016   \n",
       "3    Matthew McConaughey,Reese Witherspoon, Seth Ma...  2016   \n",
       "4    Will Smith, Jared Leto, Margot Robbie, Viola D...  2016   \n",
       "..                                                 ...   ...   \n",
       "995  Chiwetel Ejiofor, Nicole Kidman, Julia Roberts...  2015   \n",
       "996  Lauren German, Heather Matarazzo, Bijou Philli...  2007   \n",
       "997  Robert Hoffman, Briana Evigan, Cassie Ventura,...  2008   \n",
       "998  Adam Pally, T.J. Miller, Thomas Middleditch,Sh...  2014   \n",
       "999  Kevin Spacey, Jennifer Garner, Robbie Amell,Ch...  2016   \n",
       "\n",
       "     Runtime (Minutes)  Rating   Votes  Revenue (Millions)  Metascore  \n",
       "0                  121     8.1  757074              333.13       76.0  \n",
       "1                  124     7.0  485820              126.46       65.0  \n",
       "2                  117     7.3  157606              138.12       62.0  \n",
       "3                  108     7.2   60545              270.32       59.0  \n",
       "4                  123     6.2  393727              325.02       40.0  \n",
       "..                 ...     ...     ...                 ...        ...  \n",
       "995                111     6.2   27585                 NaN       45.0  \n",
       "996                 94     5.5   73152               17.54       46.0  \n",
       "997                 98     6.2   70699               58.01       50.0  \n",
       "998                 93     5.6    4881                 NaN       22.0  \n",
       "999                 87     5.3   12435               19.64       11.0  \n",
       "\n",
       "[1000 rows x 12 columns]"
      ]
     },
     "execution_count": 48,
     "metadata": {},
     "output_type": "execute_result"
    }
   ],
   "source": [
    "data = data.drop_duplicates()\n",
    "data"
   ]
  },
  {
   "cell_type": "markdown",
   "id": "fe013353-b9c4-4d54-93a4-0bcda13aa6a6",
   "metadata": {},
   "source": [
    "# Get overall statistics"
   ]
  },
  {
   "cell_type": "code",
   "execution_count": 53,
   "id": "ca9c1a02-8709-49a8-951c-17bc87746770",
   "metadata": {
    "tags": []
   },
   "outputs": [
    {
     "data": {
      "text/html": [
       "<div>\n",
       "<style scoped>\n",
       "    .dataframe tbody tr th:only-of-type {\n",
       "        vertical-align: middle;\n",
       "    }\n",
       "\n",
       "    .dataframe tbody tr th {\n",
       "        vertical-align: top;\n",
       "    }\n",
       "\n",
       "    .dataframe thead th {\n",
       "        text-align: right;\n",
       "    }\n",
       "</style>\n",
       "<table border=\"1\" class=\"dataframe\">\n",
       "  <thead>\n",
       "    <tr style=\"text-align: right;\">\n",
       "      <th></th>\n",
       "      <th>Rank</th>\n",
       "      <th>Title</th>\n",
       "      <th>Genre</th>\n",
       "      <th>Description</th>\n",
       "      <th>Director</th>\n",
       "      <th>Actors</th>\n",
       "      <th>Year</th>\n",
       "      <th>Runtime (Minutes)</th>\n",
       "      <th>Rating</th>\n",
       "      <th>Votes</th>\n",
       "      <th>Revenue (Millions)</th>\n",
       "      <th>Metascore</th>\n",
       "    </tr>\n",
       "  </thead>\n",
       "  <tbody>\n",
       "    <tr>\n",
       "      <th>count</th>\n",
       "      <td>1000.000000</td>\n",
       "      <td>1000</td>\n",
       "      <td>1000</td>\n",
       "      <td>1000</td>\n",
       "      <td>1000</td>\n",
       "      <td>1000</td>\n",
       "      <td>1000.000000</td>\n",
       "      <td>1000.000000</td>\n",
       "      <td>1000.000000</td>\n",
       "      <td>1.000000e+03</td>\n",
       "      <td>872.000000</td>\n",
       "      <td>936.000000</td>\n",
       "    </tr>\n",
       "    <tr>\n",
       "      <th>unique</th>\n",
       "      <td>NaN</td>\n",
       "      <td>999</td>\n",
       "      <td>207</td>\n",
       "      <td>1000</td>\n",
       "      <td>644</td>\n",
       "      <td>996</td>\n",
       "      <td>NaN</td>\n",
       "      <td>NaN</td>\n",
       "      <td>NaN</td>\n",
       "      <td>NaN</td>\n",
       "      <td>NaN</td>\n",
       "      <td>NaN</td>\n",
       "    </tr>\n",
       "    <tr>\n",
       "      <th>top</th>\n",
       "      <td>NaN</td>\n",
       "      <td>The Host</td>\n",
       "      <td>Action,Adventure,Sci-Fi</td>\n",
       "      <td>A group of intergalactic criminals are forced ...</td>\n",
       "      <td>Ridley Scott</td>\n",
       "      <td>Jennifer Lawrence, Josh Hutcherson, Liam Hemsw...</td>\n",
       "      <td>NaN</td>\n",
       "      <td>NaN</td>\n",
       "      <td>NaN</td>\n",
       "      <td>NaN</td>\n",
       "      <td>NaN</td>\n",
       "      <td>NaN</td>\n",
       "    </tr>\n",
       "    <tr>\n",
       "      <th>freq</th>\n",
       "      <td>NaN</td>\n",
       "      <td>2</td>\n",
       "      <td>50</td>\n",
       "      <td>1</td>\n",
       "      <td>8</td>\n",
       "      <td>2</td>\n",
       "      <td>NaN</td>\n",
       "      <td>NaN</td>\n",
       "      <td>NaN</td>\n",
       "      <td>NaN</td>\n",
       "      <td>NaN</td>\n",
       "      <td>NaN</td>\n",
       "    </tr>\n",
       "    <tr>\n",
       "      <th>mean</th>\n",
       "      <td>500.500000</td>\n",
       "      <td>NaN</td>\n",
       "      <td>NaN</td>\n",
       "      <td>NaN</td>\n",
       "      <td>NaN</td>\n",
       "      <td>NaN</td>\n",
       "      <td>2012.783000</td>\n",
       "      <td>113.172000</td>\n",
       "      <td>6.723200</td>\n",
       "      <td>1.698083e+05</td>\n",
       "      <td>82.956376</td>\n",
       "      <td>58.985043</td>\n",
       "    </tr>\n",
       "    <tr>\n",
       "      <th>std</th>\n",
       "      <td>288.819436</td>\n",
       "      <td>NaN</td>\n",
       "      <td>NaN</td>\n",
       "      <td>NaN</td>\n",
       "      <td>NaN</td>\n",
       "      <td>NaN</td>\n",
       "      <td>3.205962</td>\n",
       "      <td>18.810908</td>\n",
       "      <td>0.945429</td>\n",
       "      <td>1.887626e+05</td>\n",
       "      <td>103.253540</td>\n",
       "      <td>17.194757</td>\n",
       "    </tr>\n",
       "    <tr>\n",
       "      <th>min</th>\n",
       "      <td>1.000000</td>\n",
       "      <td>NaN</td>\n",
       "      <td>NaN</td>\n",
       "      <td>NaN</td>\n",
       "      <td>NaN</td>\n",
       "      <td>NaN</td>\n",
       "      <td>2006.000000</td>\n",
       "      <td>66.000000</td>\n",
       "      <td>1.900000</td>\n",
       "      <td>6.100000e+01</td>\n",
       "      <td>0.000000</td>\n",
       "      <td>11.000000</td>\n",
       "    </tr>\n",
       "    <tr>\n",
       "      <th>25%</th>\n",
       "      <td>250.750000</td>\n",
       "      <td>NaN</td>\n",
       "      <td>NaN</td>\n",
       "      <td>NaN</td>\n",
       "      <td>NaN</td>\n",
       "      <td>NaN</td>\n",
       "      <td>2010.000000</td>\n",
       "      <td>100.000000</td>\n",
       "      <td>6.200000</td>\n",
       "      <td>3.630900e+04</td>\n",
       "      <td>13.270000</td>\n",
       "      <td>47.000000</td>\n",
       "    </tr>\n",
       "    <tr>\n",
       "      <th>50%</th>\n",
       "      <td>500.500000</td>\n",
       "      <td>NaN</td>\n",
       "      <td>NaN</td>\n",
       "      <td>NaN</td>\n",
       "      <td>NaN</td>\n",
       "      <td>NaN</td>\n",
       "      <td>2014.000000</td>\n",
       "      <td>111.000000</td>\n",
       "      <td>6.800000</td>\n",
       "      <td>1.107990e+05</td>\n",
       "      <td>47.985000</td>\n",
       "      <td>59.500000</td>\n",
       "    </tr>\n",
       "    <tr>\n",
       "      <th>75%</th>\n",
       "      <td>750.250000</td>\n",
       "      <td>NaN</td>\n",
       "      <td>NaN</td>\n",
       "      <td>NaN</td>\n",
       "      <td>NaN</td>\n",
       "      <td>NaN</td>\n",
       "      <td>2016.000000</td>\n",
       "      <td>123.000000</td>\n",
       "      <td>7.400000</td>\n",
       "      <td>2.399098e+05</td>\n",
       "      <td>113.715000</td>\n",
       "      <td>72.000000</td>\n",
       "    </tr>\n",
       "    <tr>\n",
       "      <th>max</th>\n",
       "      <td>1000.000000</td>\n",
       "      <td>NaN</td>\n",
       "      <td>NaN</td>\n",
       "      <td>NaN</td>\n",
       "      <td>NaN</td>\n",
       "      <td>NaN</td>\n",
       "      <td>2016.000000</td>\n",
       "      <td>191.000000</td>\n",
       "      <td>9.000000</td>\n",
       "      <td>1.791916e+06</td>\n",
       "      <td>936.630000</td>\n",
       "      <td>100.000000</td>\n",
       "    </tr>\n",
       "  </tbody>\n",
       "</table>\n",
       "</div>"
      ],
      "text/plain": [
       "               Rank     Title                    Genre  \\\n",
       "count   1000.000000      1000                     1000   \n",
       "unique          NaN       999                      207   \n",
       "top             NaN  The Host  Action,Adventure,Sci-Fi   \n",
       "freq            NaN         2                       50   \n",
       "mean     500.500000       NaN                      NaN   \n",
       "std      288.819436       NaN                      NaN   \n",
       "min        1.000000       NaN                      NaN   \n",
       "25%      250.750000       NaN                      NaN   \n",
       "50%      500.500000       NaN                      NaN   \n",
       "75%      750.250000       NaN                      NaN   \n",
       "max     1000.000000       NaN                      NaN   \n",
       "\n",
       "                                              Description      Director  \\\n",
       "count                                                1000          1000   \n",
       "unique                                               1000           644   \n",
       "top     A group of intergalactic criminals are forced ...  Ridley Scott   \n",
       "freq                                                    1             8   \n",
       "mean                                                  NaN           NaN   \n",
       "std                                                   NaN           NaN   \n",
       "min                                                   NaN           NaN   \n",
       "25%                                                   NaN           NaN   \n",
       "50%                                                   NaN           NaN   \n",
       "75%                                                   NaN           NaN   \n",
       "max                                                   NaN           NaN   \n",
       "\n",
       "                                                   Actors         Year  \\\n",
       "count                                                1000  1000.000000   \n",
       "unique                                                996          NaN   \n",
       "top     Jennifer Lawrence, Josh Hutcherson, Liam Hemsw...          NaN   \n",
       "freq                                                    2          NaN   \n",
       "mean                                                  NaN  2012.783000   \n",
       "std                                                   NaN     3.205962   \n",
       "min                                                   NaN  2006.000000   \n",
       "25%                                                   NaN  2010.000000   \n",
       "50%                                                   NaN  2014.000000   \n",
       "75%                                                   NaN  2016.000000   \n",
       "max                                                   NaN  2016.000000   \n",
       "\n",
       "        Runtime (Minutes)       Rating         Votes  Revenue (Millions)  \\\n",
       "count         1000.000000  1000.000000  1.000000e+03          872.000000   \n",
       "unique                NaN          NaN           NaN                 NaN   \n",
       "top                   NaN          NaN           NaN                 NaN   \n",
       "freq                  NaN          NaN           NaN                 NaN   \n",
       "mean           113.172000     6.723200  1.698083e+05           82.956376   \n",
       "std             18.810908     0.945429  1.887626e+05          103.253540   \n",
       "min             66.000000     1.900000  6.100000e+01            0.000000   \n",
       "25%            100.000000     6.200000  3.630900e+04           13.270000   \n",
       "50%            111.000000     6.800000  1.107990e+05           47.985000   \n",
       "75%            123.000000     7.400000  2.399098e+05          113.715000   \n",
       "max            191.000000     9.000000  1.791916e+06          936.630000   \n",
       "\n",
       "         Metascore  \n",
       "count   936.000000  \n",
       "unique         NaN  \n",
       "top            NaN  \n",
       "freq           NaN  \n",
       "mean     58.985043  \n",
       "std      17.194757  \n",
       "min      11.000000  \n",
       "25%      47.000000  \n",
       "50%      59.500000  \n",
       "75%      72.000000  \n",
       "max     100.000000  "
      ]
     },
     "execution_count": 53,
     "metadata": {},
     "output_type": "execute_result"
    }
   ],
   "source": [
    "data.describe(include ='all')"
   ]
  },
  {
   "cell_type": "markdown",
   "id": "efaa06d7-8f10-4c3d-b8ee-a2c9572c9dc4",
   "metadata": {
    "tags": []
   },
   "source": [
    "# Display Title of the movie having runtime >=180"
   ]
  },
  {
   "cell_type": "code",
   "execution_count": 58,
   "id": "c1e53f07-d0e3-4e56-996d-fe778d07a8a9",
   "metadata": {
    "tags": []
   },
   "outputs": [
    {
     "data": {
      "text/plain": [
       "Index(['Rank', 'Title', 'Genre', 'Description', 'Director', 'Actors', 'Year',\n",
       "       'Runtime (Minutes)', 'Rating', 'Votes', 'Revenue (Millions)',\n",
       "       'Metascore'],\n",
       "      dtype='object')"
      ]
     },
     "execution_count": 58,
     "metadata": {},
     "output_type": "execute_result"
    }
   ],
   "source": [
    "data.columns"
   ]
  },
  {
   "cell_type": "code",
   "execution_count": 66,
   "id": "0c7e34f1-6838-4363-9706-a9a4162ce357",
   "metadata": {
    "tags": []
   },
   "outputs": [
    {
     "data": {
      "text/plain": [
       "82     The Wolf of Wall Street\n",
       "88           The Hateful Eight\n",
       "311             La vie d'Adèle\n",
       "828                 Grindhouse\n",
       "965              Inland Empire\n",
       "Name: Title, dtype: object"
      ]
     },
     "execution_count": 66,
     "metadata": {},
     "output_type": "execute_result"
    }
   ],
   "source": [
    "data[data['Runtime (Minutes)']>=180]['Title']"
   ]
  },
  {
   "cell_type": "markdown",
   "id": "fc388536-3651-43ff-bb39-f8e11cf59aed",
   "metadata": {},
   "source": [
    "# In which year there was the highest average voting?"
   ]
  },
  {
   "cell_type": "code",
   "execution_count": 69,
   "id": "25647e0b-3550-41e5-9386-634fa90b0fef",
   "metadata": {
    "tags": []
   },
   "outputs": [
    {
     "data": {
      "text/plain": [
       "Index(['Rank', 'Title', 'Genre', 'Description', 'Director', 'Actors', 'Year',\n",
       "       'Runtime (Minutes)', 'Rating', 'Votes', 'Revenue (Millions)',\n",
       "       'Metascore'],\n",
       "      dtype='object')"
      ]
     },
     "execution_count": 69,
     "metadata": {},
     "output_type": "execute_result"
    }
   ],
   "source": [
    "data.columns"
   ]
  },
  {
   "cell_type": "code",
   "execution_count": 81,
   "id": "04ddea90-7757-469a-8da9-841e22698cc2",
   "metadata": {
    "tags": []
   },
   "outputs": [
    {
     "data": {
      "text/plain": [
       "Text(0.5, 1.0, 'Votes per year')"
      ]
     },
     "execution_count": 81,
     "metadata": {},
     "output_type": "execute_result"
    },
    {
     "data": {
      "image/png": "[encoded data removed]",
      "text/plain": [
       "<Figure size 640x480 with 1 Axes>"
      ]
     },
     "metadata": {},
     "output_type": "display_data"
    }
   ],
   "source": [
    "sns.barplot(x='Year', y='Votes', data=data)\n",
    "plt.title('Votes per year')"
   ]
  },
  {
   "cell_type": "code",
   "execution_count": 79,
   "id": "e6445746-0693-4065-87ab-fb30fe571b6f",
   "metadata": {
    "tags": []
   },
   "outputs": [
    {
     "data": {
      "text/plain": [
       "Year\n",
       "2012    285226.093750\n",
       "2008    275505.384615\n",
       "2006    269289.954545\n",
       "2009    255780.647059\n",
       "2010    252782.316667\n",
       "2007    244331.037736\n",
       "2011    240790.301587\n",
       "2013    219049.648352\n",
       "2014    203930.224490\n",
       "2015    115726.220472\n",
       "2016     48591.754209\n",
       "Name: Votes, dtype: float64"
      ]
     },
     "execution_count": 79,
     "metadata": {},
     "output_type": "execute_result"
    }
   ],
   "source": [
    "data.groupby('Year')['Votes'].mean().sort_values(ascending=False)"
   ]
  },
  {
   "cell_type": "markdown",
   "id": "9b1e87dc-c75c-4e3a-b268-96edf8123495",
   "metadata": {},
   "source": [
    "# In which year there was the Highest Average Revenue"
   ]
  },
  {
   "cell_type": "code",
   "execution_count": 84,
   "id": "39b555b7-09db-4500-a4c1-a10a45650080",
   "metadata": {
    "tags": []
   },
   "outputs": [
    {
     "data": {
      "text/plain": [
       "Index(['Rank', 'Title', 'Genre', 'Description', 'Director', 'Actors', 'Year',\n",
       "       'Runtime (Minutes)', 'Rating', 'Votes', 'Revenue (Millions)',\n",
       "       'Metascore'],\n",
       "      dtype='object')"
      ]
     },
     "execution_count": 84,
     "metadata": {},
     "output_type": "execute_result"
    }
   ],
   "source": [
    "data.columns"
   ]
  },
  {
   "cell_type": "code",
   "execution_count": 88,
   "id": "4e9e372d-ad7b-4611-ab34-9111c7832535",
   "metadata": {
    "tags": []
   },
   "outputs": [
    {
     "data": {
      "text/plain": [
       "Year\n",
       "2009    112.601277\n",
       "2012    107.973281\n",
       "2010    105.081579\n",
       "2008     99.082745\n",
       "2007     87.882245\n",
       "2011     87.612258\n",
       "2013     87.121818\n",
       "2006     86.296667\n",
       "2014     85.078723\n",
       "2015     78.355044\n",
       "2016     54.690976\n",
       "Name: Revenue (Millions), dtype: float64"
      ]
     },
     "execution_count": 88,
     "metadata": {},
     "output_type": "execute_result"
    }
   ],
   "source": [
    "data.groupby('Year')['Revenue (Millions)'].mean().sort_values(ascending =False)"
   ]
  },
  {
   "cell_type": "code",
   "execution_count": 91,
   "id": "3623d73c-a5e7-4130-9b8b-0825a4837527",
   "metadata": {
    "tags": []
   },
   "outputs": [
    {
     "data": {
      "text/plain": [
       "Text(0.5, 1.0, 'Revenue per year')"
      ]
     },
     "execution_count": 91,
     "metadata": {},
     "output_type": "execute_result"
    },
    {
     "data": {
      "image/png": "[encoded data removed]",
      "text/plain": [
       "<Figure size 640x480 with 1 Axes>"
      ]
     },
     "metadata": {},
     "output_type": "display_data"
    }
   ],
   "source": [
    "sns.barplot(x='Year', y='Revenue (Millions)', data=data)\n",
    "plt.title('Revenue per year')"
   ]
  },
  {
   "cell_type": "markdown",
   "id": "a02a9c3f-3e78-42c5-b198-9d86ca0b0c02",
   "metadata": {},
   "source": [
    "# Find The Average Rating For each director"
   ]
  },
  {
   "cell_type": "code",
   "execution_count": 93,
   "id": "e8fe3bbc-8fc0-4d9f-88f2-3024713515bb",
   "metadata": {
    "tags": []
   },
   "outputs": [
    {
     "data": {
      "text/plain": [
       "Index(['Rank', 'Title', 'Genre', 'Description', 'Director', 'Actors', 'Year',\n",
       "       'Runtime (Minutes)', 'Rating', 'Votes', 'Revenue (Millions)',\n",
       "       'Metascore'],\n",
       "      dtype='object')"
      ]
     },
     "execution_count": 93,
     "metadata": {},
     "output_type": "execute_result"
    }
   ],
   "source": [
    "data.columns"
   ]
  },
  {
   "cell_type": "code",
   "execution_count": 97,
   "id": "040e256e-da6b-435c-8392-c667d39b90ce",
   "metadata": {
    "tags": []
   },
   "outputs": [
    {
     "data": {
      "text/plain": [
       "Director\n",
       "Nitesh Tiwari        8.80\n",
       "Christopher Nolan    8.68\n",
       "Olivier Nakache      8.60\n",
       "Makoto Shinkai       8.60\n",
       "Aamir Khan           8.50\n",
       "                     ... \n",
       "Micheal Bafaro       3.50\n",
       "Jonathan Holbrook    3.20\n",
       "Shawn Burkett        2.70\n",
       "James Wong           2.70\n",
       "Jason Friedberg      1.90\n",
       "Name: Rating, Length: 644, dtype: float64"
      ]
     },
     "execution_count": 97,
     "metadata": {},
     "output_type": "execute_result"
    }
   ],
   "source": [
    "data.groupby('Director')['Rating'].mean().sort_values(ascending=False)"
   ]
  },
  {
   "cell_type": "markdown",
   "id": "d440a1be-6ce8-424b-b6a3-86f2f0b0f91c",
   "metadata": {},
   "source": [
    "# Display  Top 10 lengthy Movies Title and Runtime"
   ]
  },
  {
   "cell_type": "code",
   "execution_count": 100,
   "id": "bb71c26a-fb48-4054-b1c9-2ab6608e3767",
   "metadata": {
    "tags": []
   },
   "outputs": [
    {
     "data": {
      "text/plain": [
       "Index(['Rank', 'Title', 'Genre', 'Description', 'Director', 'Actors', 'Year',\n",
       "       'Runtime (Minutes)', 'Rating', 'Votes', 'Revenue (Millions)',\n",
       "       'Metascore'],\n",
       "      dtype='object')"
      ]
     },
     "execution_count": 100,
     "metadata": {},
     "output_type": "execute_result"
    }
   ],
   "source": [
    "data.columns"
   ]
  },
  {
   "cell_type": "code",
   "execution_count": 114,
   "id": "55e207d6-b582-4ddd-8719-5c5c1372cf95",
   "metadata": {
    "tags": []
   },
   "outputs": [],
   "source": [
    "top10_len =data.nlargest(10,'Runtime (Minutes)')[['Title','Runtime (Minutes)']]\\\n",
    ".set_index('Title')"
   ]
  },
  {
   "cell_type": "code",
   "execution_count": 116,
   "id": "5b55e27f-136f-46cc-8d8c-69dc5814987f",
   "metadata": {
    "tags": []
   },
   "outputs": [
    {
     "data": {
      "text/html": [
       "<div>\n",
       "<style scoped>\n",
       "    .dataframe tbody tr th:only-of-type {\n",
       "        vertical-align: middle;\n",
       "    }\n",
       "\n",
       "    .dataframe tbody tr th {\n",
       "        vertical-align: top;\n",
       "    }\n",
       "\n",
       "    .dataframe thead th {\n",
       "        text-align: right;\n",
       "    }\n",
       "</style>\n",
       "<table border=\"1\" class=\"dataframe\">\n",
       "  <thead>\n",
       "    <tr style=\"text-align: right;\">\n",
       "      <th></th>\n",
       "      <th>Runtime (Minutes)</th>\n",
       "    </tr>\n",
       "    <tr>\n",
       "      <th>Title</th>\n",
       "      <th></th>\n",
       "    </tr>\n",
       "  </thead>\n",
       "  <tbody>\n",
       "    <tr>\n",
       "      <th>Grindhouse</th>\n",
       "      <td>191</td>\n",
       "    </tr>\n",
       "    <tr>\n",
       "      <th>The Hateful Eight</th>\n",
       "      <td>187</td>\n",
       "    </tr>\n",
       "    <tr>\n",
       "      <th>The Wolf of Wall Street</th>\n",
       "      <td>180</td>\n",
       "    </tr>\n",
       "    <tr>\n",
       "      <th>La vie d'Adèle</th>\n",
       "      <td>180</td>\n",
       "    </tr>\n",
       "    <tr>\n",
       "      <th>Inland Empire</th>\n",
       "      <td>180</td>\n",
       "    </tr>\n",
       "    <tr>\n",
       "      <th>Cloud Atlas</th>\n",
       "      <td>172</td>\n",
       "    </tr>\n",
       "    <tr>\n",
       "      <th>3 Idiots</th>\n",
       "      <td>170</td>\n",
       "    </tr>\n",
       "    <tr>\n",
       "      <th>Interstellar</th>\n",
       "      <td>169</td>\n",
       "    </tr>\n",
       "    <tr>\n",
       "      <th>Pirates of the Caribbean: At World's End</th>\n",
       "      <td>169</td>\n",
       "    </tr>\n",
       "    <tr>\n",
       "      <th>The Hobbit: An Unexpected Journey</th>\n",
       "      <td>169</td>\n",
       "    </tr>\n",
       "  </tbody>\n",
       "</table>\n",
       "</div>"
      ],
      "text/plain": [
       "                                          Runtime (Minutes)\n",
       "Title                                                      \n",
       "Grindhouse                                              191\n",
       "The Hateful Eight                                       187\n",
       "The Wolf of Wall Street                                 180\n",
       "La vie d'Adèle                                          180\n",
       "Inland Empire                                           180\n",
       "Cloud Atlas                                             172\n",
       "3 Idiots                                                170\n",
       "Interstellar                                            169\n",
       "Pirates of the Caribbean: At World's End                169\n",
       "The Hobbit: An Unexpected Journey                       169"
      ]
     },
     "execution_count": 116,
     "metadata": {},
     "output_type": "execute_result"
    }
   ],
   "source": [
    "top10_len"
   ]
  },
  {
   "cell_type": "code",
   "execution_count": 118,
   "id": "658c34d7-c2d2-4f86-8d94-22ee80ebd805",
   "metadata": {
    "tags": []
   },
   "outputs": [
    {
     "data": {
      "text/plain": [
       "<Axes: xlabel='Runtime (Minutes)', ylabel='Title'>"
      ]
     },
     "execution_count": 118,
     "metadata": {},
     "output_type": "execute_result"
    },
    {
     "data": {
      "image/png": "[encoded data removed]",
      "text/plain": [
       "<Figure size 640x480 with 1 Axes>"
      ]
     },
     "metadata": {},
     "output_type": "display_data"
    }
   ],
   "source": [
    "sns.barplot(x='Runtime (Minutes)', y=top10_len.index, data =top10_len)"
   ]
  },
  {
   "cell_type": "markdown",
   "id": "60a22378-8377-4a83-ae49-08277d06189c",
   "metadata": {},
   "source": [
    "# Display Number of Movies Per Year"
   ]
  },
  {
   "cell_type": "code",
   "execution_count": 121,
   "id": "dc2aaa50-a755-4e28-a7cb-63f6e7f49a67",
   "metadata": {
    "tags": []
   },
   "outputs": [
    {
     "data": {
      "text/plain": [
       "Index(['Rank', 'Title', 'Genre', 'Description', 'Director', 'Actors', 'Year',\n",
       "       'Runtime (Minutes)', 'Rating', 'Votes', 'Revenue (Millions)',\n",
       "       'Metascore'],\n",
       "      dtype='object')"
      ]
     },
     "execution_count": 121,
     "metadata": {},
     "output_type": "execute_result"
    }
   ],
   "source": [
    "data.columns"
   ]
  },
  {
   "cell_type": "code",
   "execution_count": 125,
   "id": "d1c1acc3-1a1f-424c-9987-aa8b8f9812ac",
   "metadata": {
    "tags": []
   },
   "outputs": [
    {
     "data": {
      "text/plain": [
       "Year\n",
       "2016    297\n",
       "2015    127\n",
       "2014     98\n",
       "2013     91\n",
       "2012     64\n",
       "2011     63\n",
       "2010     60\n",
       "2007     53\n",
       "2008     52\n",
       "2009     51\n",
       "2006     44\n",
       "Name: count, dtype: int64"
      ]
     },
     "execution_count": 125,
     "metadata": {},
     "output_type": "execute_result"
    }
   ],
   "source": [
    "data['Year'].value_counts()"
   ]
  },
  {
   "cell_type": "code",
   "execution_count": 135,
   "id": "b622f122-635f-4653-a814-2e04edee6244",
   "metadata": {
    "tags": []
   },
   "outputs": [
    {
     "data": {
      "text/plain": [
       "Text(0.5, 1.0, 'Number of Movies per Year')"
      ]
     },
     "execution_count": 135,
     "metadata": {},
     "output_type": "execute_result"
    },
    {
     "data": {
      "image/png": "[encoded data removed]",
      "text/plain": [
       "<Figure size 640x480 with 1 Axes>"
      ]
     },
     "metadata": {},
     "output_type": "display_data"
    }
   ],
   "source": [
    "sns.countplot(y='Year', data=data)\n",
    "plt.title(\"Number of Movies per Year\")"
   ]
  },
  {
   "cell_type": "markdown",
   "id": "63a98d49-60d7-4b8d-b41f-18fc6aa1b726",
   "metadata": {},
   "source": [
    "# Find Most Popular Movie Title(Highest Revenue)"
   ]
  },
  {
   "cell_type": "code",
   "execution_count": 138,
   "id": "fac1edc9-49dd-4462-ad2f-ffe36fe0c67c",
   "metadata": {
    "tags": []
   },
   "outputs": [
    {
     "data": {
      "text/plain": [
       "Index(['Rank', 'Title', 'Genre', 'Description', 'Director', 'Actors', 'Year',\n",
       "       'Runtime (Minutes)', 'Rating', 'Votes', 'Revenue (Millions)',\n",
       "       'Metascore'],\n",
       "      dtype='object')"
      ]
     },
     "execution_count": 138,
     "metadata": {},
     "output_type": "execute_result"
    }
   ],
   "source": [
    "data.columns"
   ]
  },
  {
   "cell_type": "code",
   "execution_count": 164,
   "id": "1fd50d5e-ac7d-4247-bd4b-d3710f68e314",
   "metadata": {
    "tags": []
   },
   "outputs": [
    {
     "data": {
      "text/plain": [
       "50    Star Wars: Episode VII - The Force Awakens\n",
       "Name: Title, dtype: object"
      ]
     },
     "execution_count": 164,
     "metadata": {},
     "output_type": "execute_result"
    }
   ],
   "source": [
    "data[data['Revenue (Millions)'].max()==data['Revenue (Millions)']]['Title']"
   ]
  },
  {
   "cell_type": "markdown",
   "id": "fb03e405-6937-4bdf-8c8f-4111faf5e893",
   "metadata": {},
   "source": [
    "# Display top 10 Highest Rated Movie Titles and its Directors"
   ]
  },
  {
   "cell_type": "code",
   "execution_count": 167,
   "id": "d914c105-a8f9-47de-9adc-9ee0e68cc11f",
   "metadata": {
    "tags": []
   },
   "outputs": [
    {
     "data": {
      "text/plain": [
       "Index(['Rank', 'Title', 'Genre', 'Description', 'Director', 'Actors', 'Year',\n",
       "       'Runtime (Minutes)', 'Rating', 'Votes', 'Revenue (Millions)',\n",
       "       'Metascore'],\n",
       "      dtype='object')"
      ]
     },
     "execution_count": 167,
     "metadata": {},
     "output_type": "execute_result"
    }
   ],
   "source": [
    "data.columns"
   ]
  },
  {
   "cell_type": "code",
   "execution_count": 188,
   "id": "a7d7c691-38bf-47e2-b987-de9c17b2f4b6",
   "metadata": {
    "tags": []
   },
   "outputs": [],
   "source": [
    "top10_rating=data.nlargest(10, 'Rating')[[ 'Title','Rating','Director']]\\\n",
    ".set_index('Title')"
   ]
  },
  {
   "cell_type": "code",
   "execution_count": 190,
   "id": "9e56d635-0927-4f40-933c-423710d98a83",
   "metadata": {
    "tags": []
   },
   "outputs": [
    {
     "data": {
      "text/html": [
       "<div>\n",
       "<style scoped>\n",
       "    .dataframe tbody tr th:only-of-type {\n",
       "        vertical-align: middle;\n",
       "    }\n",
       "\n",
       "    .dataframe tbody tr th {\n",
       "        vertical-align: top;\n",
       "    }\n",
       "\n",
       "    .dataframe thead th {\n",
       "        text-align: right;\n",
       "    }\n",
       "</style>\n",
       "<table border=\"1\" class=\"dataframe\">\n",
       "  <thead>\n",
       "    <tr style=\"text-align: right;\">\n",
       "      <th></th>\n",
       "      <th>Rating</th>\n",
       "      <th>Director</th>\n",
       "    </tr>\n",
       "    <tr>\n",
       "      <th>Title</th>\n",
       "      <th></th>\n",
       "      <th></th>\n",
       "    </tr>\n",
       "  </thead>\n",
       "  <tbody>\n",
       "    <tr>\n",
       "      <th>The Dark Knight</th>\n",
       "      <td>9.0</td>\n",
       "      <td>Christopher Nolan</td>\n",
       "    </tr>\n",
       "    <tr>\n",
       "      <th>Inception</th>\n",
       "      <td>8.8</td>\n",
       "      <td>Christopher Nolan</td>\n",
       "    </tr>\n",
       "    <tr>\n",
       "      <th>Dangal</th>\n",
       "      <td>8.8</td>\n",
       "      <td>Nitesh Tiwari</td>\n",
       "    </tr>\n",
       "    <tr>\n",
       "      <th>Interstellar</th>\n",
       "      <td>8.6</td>\n",
       "      <td>Christopher Nolan</td>\n",
       "    </tr>\n",
       "    <tr>\n",
       "      <th>Kimi no na wa</th>\n",
       "      <td>8.6</td>\n",
       "      <td>Makoto Shinkai</td>\n",
       "    </tr>\n",
       "    <tr>\n",
       "      <th>The Intouchables</th>\n",
       "      <td>8.6</td>\n",
       "      <td>Olivier Nakache</td>\n",
       "    </tr>\n",
       "    <tr>\n",
       "      <th>The Prestige</th>\n",
       "      <td>8.5</td>\n",
       "      <td>Christopher Nolan</td>\n",
       "    </tr>\n",
       "    <tr>\n",
       "      <th>The Departed</th>\n",
       "      <td>8.5</td>\n",
       "      <td>Martin Scorsese</td>\n",
       "    </tr>\n",
       "    <tr>\n",
       "      <th>The Dark Knight Rises</th>\n",
       "      <td>8.5</td>\n",
       "      <td>Christopher Nolan</td>\n",
       "    </tr>\n",
       "    <tr>\n",
       "      <th>Whiplash</th>\n",
       "      <td>8.5</td>\n",
       "      <td>Damien Chazelle</td>\n",
       "    </tr>\n",
       "  </tbody>\n",
       "</table>\n",
       "</div>"
      ],
      "text/plain": [
       "                       Rating           Director\n",
       "Title                                           \n",
       "The Dark Knight           9.0  Christopher Nolan\n",
       "Inception                 8.8  Christopher Nolan\n",
       "Dangal                    8.8      Nitesh Tiwari\n",
       "Interstellar              8.6  Christopher Nolan\n",
       "Kimi no na wa             8.6     Makoto Shinkai\n",
       "The Intouchables          8.6    Olivier Nakache\n",
       "The Prestige              8.5  Christopher Nolan\n",
       "The Departed              8.5    Martin Scorsese\n",
       "The Dark Knight Rises     8.5  Christopher Nolan\n",
       "Whiplash                  8.5    Damien Chazelle"
      ]
     },
     "execution_count": 190,
     "metadata": {},
     "output_type": "execute_result"
    }
   ],
   "source": [
    "top10_rating"
   ]
  },
  {
   "cell_type": "code",
   "execution_count": 200,
   "id": "8a9c0a81-a3e3-460e-a0ca-868c8c82d8fa",
   "metadata": {
    "tags": []
   },
   "outputs": [
    {
     "data": {
      "text/plain": [
       "<matplotlib.legend.Legend at 0x24357b21d00>"
      ]
     },
     "execution_count": 200,
     "metadata": {},
     "output_type": "execute_result"
    },
    {
     "data": {
      "image/png": "[encoded data removed]",
      "text/plain": [
       "<Figure size 640x480 with 1 Axes>"
      ]
     },
     "metadata": {},
     "output_type": "display_data"
    }
   ],
   "source": [
    "sns.barplot(x='Rating', y=top10_rating.index, data=top10_rating,hue='Director',\n",
    "           dodge=False) \n",
    "plt.legend(bbox_to_anchor =(1.05,1))"
   ]
  },
  {
   "cell_type": "markdown",
   "id": "415cf13f-068b-46af-953c-7620b570dd2a",
   "metadata": {},
   "source": [
    "# Display top 10  Highest Revenue Movie Titles"
   ]
  },
  {
   "cell_type": "code",
   "execution_count": 203,
   "id": "f6a87b75-a91e-4d50-8ad1-a08b4caaa835",
   "metadata": {
    "tags": []
   },
   "outputs": [
    {
     "data": {
      "text/plain": [
       "Index(['Rank', 'Title', 'Genre', 'Description', 'Director', 'Actors', 'Year',\n",
       "       'Runtime (Minutes)', 'Rating', 'Votes', 'Revenue (Millions)',\n",
       "       'Metascore'],\n",
       "      dtype='object')"
      ]
     },
     "execution_count": 203,
     "metadata": {},
     "output_type": "execute_result"
    }
   ],
   "source": [
    "data.columns"
   ]
  },
  {
   "cell_type": "code",
   "execution_count": 209,
   "id": "b669dc6c-ab84-4184-9dde-0c4456402082",
   "metadata": {
    "tags": []
   },
   "outputs": [
    {
     "data": {
      "text/html": [
       "<div>\n",
       "<style scoped>\n",
       "    .dataframe tbody tr th:only-of-type {\n",
       "        vertical-align: middle;\n",
       "    }\n",
       "\n",
       "    .dataframe tbody tr th {\n",
       "        vertical-align: top;\n",
       "    }\n",
       "\n",
       "    .dataframe thead th {\n",
       "        text-align: right;\n",
       "    }\n",
       "</style>\n",
       "<table border=\"1\" class=\"dataframe\">\n",
       "  <thead>\n",
       "    <tr style=\"text-align: right;\">\n",
       "      <th></th>\n",
       "      <th>Revenue (Millions)</th>\n",
       "    </tr>\n",
       "    <tr>\n",
       "      <th>Title</th>\n",
       "      <th></th>\n",
       "    </tr>\n",
       "  </thead>\n",
       "  <tbody>\n",
       "    <tr>\n",
       "      <th>Star Wars: Episode VII - The Force Awakens</th>\n",
       "      <td>936.63</td>\n",
       "    </tr>\n",
       "    <tr>\n",
       "      <th>Avatar</th>\n",
       "      <td>760.51</td>\n",
       "    </tr>\n",
       "    <tr>\n",
       "      <th>Jurassic World</th>\n",
       "      <td>652.18</td>\n",
       "    </tr>\n",
       "    <tr>\n",
       "      <th>The Avengers</th>\n",
       "      <td>623.28</td>\n",
       "    </tr>\n",
       "    <tr>\n",
       "      <th>The Dark Knight</th>\n",
       "      <td>533.32</td>\n",
       "    </tr>\n",
       "    <tr>\n",
       "      <th>Rogue One</th>\n",
       "      <td>532.17</td>\n",
       "    </tr>\n",
       "    <tr>\n",
       "      <th>Finding Dory</th>\n",
       "      <td>486.29</td>\n",
       "    </tr>\n",
       "    <tr>\n",
       "      <th>Avengers: Age of Ultron</th>\n",
       "      <td>458.99</td>\n",
       "    </tr>\n",
       "    <tr>\n",
       "      <th>The Dark Knight Rises</th>\n",
       "      <td>448.13</td>\n",
       "    </tr>\n",
       "    <tr>\n",
       "      <th>The Hunger Games: Catching Fire</th>\n",
       "      <td>424.65</td>\n",
       "    </tr>\n",
       "  </tbody>\n",
       "</table>\n",
       "</div>"
      ],
      "text/plain": [
       "                                            Revenue (Millions)\n",
       "Title                                                         \n",
       "Star Wars: Episode VII - The Force Awakens              936.63\n",
       "Avatar                                                  760.51\n",
       "Jurassic World                                          652.18\n",
       "The Avengers                                            623.28\n",
       "The Dark Knight                                         533.32\n",
       "Rogue One                                               532.17\n",
       "Finding Dory                                            486.29\n",
       "Avengers: Age of Ultron                                 458.99\n",
       "The Dark Knight Rises                                   448.13\n",
       "The Hunger Games: Catching Fire                         424.65"
      ]
     },
     "execution_count": 209,
     "metadata": {},
     "output_type": "execute_result"
    }
   ],
   "source": [
    "data.nlargest(10,'Revenue (Millions)')[['Revenue (Millions)', 'Title']].set_index('Title')"
   ]
  },
  {
   "cell_type": "markdown",
   "id": "b79fcd58-51ed-4464-a381-d9a4abe1c5ed",
   "metadata": {},
   "source": [
    "# Find Average Rating of Movies Year Wise"
   ]
  },
  {
   "cell_type": "code",
   "execution_count": 212,
   "id": "c78ea6bb-9796-4a7c-a721-078d76c6adea",
   "metadata": {
    "tags": []
   },
   "outputs": [
    {
     "data": {
      "text/plain": [
       "Index(['Rank', 'Title', 'Genre', 'Description', 'Director', 'Actors', 'Year',\n",
       "       'Runtime (Minutes)', 'Rating', 'Votes', 'Revenue (Millions)',\n",
       "       'Metascore'],\n",
       "      dtype='object')"
      ]
     },
     "execution_count": 212,
     "metadata": {},
     "output_type": "execute_result"
    }
   ],
   "source": [
    "data.columns"
   ]
  },
  {
   "cell_type": "code",
   "execution_count": 222,
   "id": "9ad6f821-70d4-49d0-8f70-688d2ff024e9",
   "metadata": {
    "tags": []
   },
   "outputs": [
    {
     "data": {
      "text/plain": [
       "Year\n",
       "2007    7.133962\n",
       "2006    7.125000\n",
       "2009    6.960784\n",
       "2012    6.925000\n",
       "2011    6.838095\n",
       "2014    6.837755\n",
       "2010    6.826667\n",
       "2013    6.812088\n",
       "2008    6.784615\n",
       "2015    6.602362\n",
       "2016    6.436700\n",
       "Name: Rating, dtype: float64"
      ]
     },
     "execution_count": 222,
     "metadata": {},
     "output_type": "execute_result"
    }
   ],
   "source": [
    "data.groupby('Year')['Rating'].mean().sort_values(ascending =False)"
   ]
  },
  {
   "cell_type": "markdown",
   "id": "7dabf19a-f3b9-4e99-b1a0-fa395d9432ad",
   "metadata": {},
   "source": [
    "# Does Rating Affect the Revenue?"
   ]
  },
  {
   "cell_type": "code",
   "execution_count": 225,
   "id": "d8fcd03b-a3a3-4d70-93df-8681fbc7436c",
   "metadata": {
    "tags": []
   },
   "outputs": [
    {
     "data": {
      "text/plain": [
       "Index(['Rank', 'Title', 'Genre', 'Description', 'Director', 'Actors', 'Year',\n",
       "       'Runtime (Minutes)', 'Rating', 'Votes', 'Revenue (Millions)',\n",
       "       'Metascore'],\n",
       "      dtype='object')"
      ]
     },
     "execution_count": 225,
     "metadata": {},
     "output_type": "execute_result"
    }
   ],
   "source": [
    "data.columns"
   ]
  },
  {
   "cell_type": "code",
   "execution_count": 227,
   "id": "7d20a15e-10d8-49d6-af00-660c00cc25a5",
   "metadata": {
    "tags": []
   },
   "outputs": [
    {
     "data": {
      "text/plain": [
       "<Axes: xlabel='Rating', ylabel='Revenue (Millions)'>"
      ]
     },
     "execution_count": 227,
     "metadata": {},
     "output_type": "execute_result"
    },
    {
     "data": {
      "image/png": "[encoded data removed]",
      "text/plain": [
       "<Figure size 640x480 with 1 Axes>"
      ]
     },
     "metadata": {},
     "output_type": "display_data"
    }
   ],
   "source": [
    "sns.scatterplot(x='Rating', y='Revenue (Millions)', data =data)"
   ]
  },
  {
   "cell_type": "markdown",
   "id": "1cc4c0e4-d301-4c79-8627-dc2b6dbc599a",
   "metadata": {
    "tags": []
   },
   "source": [
    "# Classify movies Based on Ratings[Excellent, Good and Average]"
   ]
  },
  {
   "cell_type": "code",
   "execution_count": 234,
   "id": "3c2206b6-7239-451d-8e42-aa73d7521d03",
   "metadata": {
    "tags": []
   },
   "outputs": [
    {
     "data": {
      "text/plain": [
       "Index(['Rank', 'Title', 'Genre', 'Description', 'Director', 'Actors', 'Year',\n",
       "       'Runtime (Minutes)', 'Rating', 'Votes', 'Revenue (Millions)',\n",
       "       'Metascore'],\n",
       "      dtype='object')"
      ]
     },
     "execution_count": 234,
     "metadata": {},
     "output_type": "execute_result"
    }
   ],
   "source": [
    "data.columns"
   ]
  },
  {
   "cell_type": "code",
   "execution_count": 236,
   "id": "026c3687-db32-4a50-b6c7-03390f0a4335",
   "metadata": {
    "tags": []
   },
   "outputs": [],
   "source": [
    "def rating(rating):\n",
    "    if rating >=7.0:\n",
    "        return \"Excellent\"\n",
    "    elif rating>=6.0:\n",
    "        return \"good\"\n",
    "    else:\n",
    "        return \"Average\""
   ]
  },
  {
   "cell_type": "code",
   "execution_count": 240,
   "id": "debe7ee3-0bb9-4eb8-86bb-af560ca609b8",
   "metadata": {
    "tags": []
   },
   "outputs": [],
   "source": [
    "data['rating_cat']=data['Rating'].apply(rating)"
   ]
  },
  {
   "cell_type": "code",
   "execution_count": 242,
   "id": "0e1c8b9e-db64-4236-b435-328ff5973306",
   "metadata": {
    "tags": []
   },
   "outputs": [
    {
     "data": {
      "text/html": [
       "<div>\n",
       "<style scoped>\n",
       "    .dataframe tbody tr th:only-of-type {\n",
       "        vertical-align: middle;\n",
       "    }\n",
       "\n",
       "    .dataframe tbody tr th {\n",
       "        vertical-align: top;\n",
       "    }\n",
       "\n",
       "    .dataframe thead th {\n",
       "        text-align: right;\n",
       "    }\n",
       "</style>\n",
       "<table border=\"1\" class=\"dataframe\">\n",
       "  <thead>\n",
       "    <tr style=\"text-align: right;\">\n",
       "      <th></th>\n",
       "      <th>Rank</th>\n",
       "      <th>Title</th>\n",
       "      <th>Genre</th>\n",
       "      <th>Description</th>\n",
       "      <th>Director</th>\n",
       "      <th>Actors</th>\n",
       "      <th>Year</th>\n",
       "      <th>Runtime (Minutes)</th>\n",
       "      <th>Rating</th>\n",
       "      <th>Votes</th>\n",
       "      <th>Revenue (Millions)</th>\n",
       "      <th>Metascore</th>\n",
       "      <th>rating_cat</th>\n",
       "    </tr>\n",
       "  </thead>\n",
       "  <tbody>\n",
       "    <tr>\n",
       "      <th>0</th>\n",
       "      <td>1</td>\n",
       "      <td>Guardians of the Galaxy</td>\n",
       "      <td>Action,Adventure,Sci-Fi</td>\n",
       "      <td>A group of intergalactic criminals are forced ...</td>\n",
       "      <td>James Gunn</td>\n",
       "      <td>Chris Pratt, Vin Diesel, Bradley Cooper, Zoe S...</td>\n",
       "      <td>2014</td>\n",
       "      <td>121</td>\n",
       "      <td>8.1</td>\n",
       "      <td>757074</td>\n",
       "      <td>333.13</td>\n",
       "      <td>76.0</td>\n",
       "      <td>Excellent</td>\n",
       "    </tr>\n",
       "    <tr>\n",
       "      <th>1</th>\n",
       "      <td>2</td>\n",
       "      <td>Prometheus</td>\n",
       "      <td>Adventure,Mystery,Sci-Fi</td>\n",
       "      <td>Following clues to the origin of mankind, a te...</td>\n",
       "      <td>Ridley Scott</td>\n",
       "      <td>Noomi Rapace, Logan Marshall-Green, Michael Fa...</td>\n",
       "      <td>2012</td>\n",
       "      <td>124</td>\n",
       "      <td>7.0</td>\n",
       "      <td>485820</td>\n",
       "      <td>126.46</td>\n",
       "      <td>65.0</td>\n",
       "      <td>Excellent</td>\n",
       "    </tr>\n",
       "    <tr>\n",
       "      <th>2</th>\n",
       "      <td>3</td>\n",
       "      <td>Split</td>\n",
       "      <td>Horror,Thriller</td>\n",
       "      <td>Three girls are kidnapped by a man with a diag...</td>\n",
       "      <td>M. Night Shyamalan</td>\n",
       "      <td>James McAvoy, Anya Taylor-Joy, Haley Lu Richar...</td>\n",
       "      <td>2016</td>\n",
       "      <td>117</td>\n",
       "      <td>7.3</td>\n",
       "      <td>157606</td>\n",
       "      <td>138.12</td>\n",
       "      <td>62.0</td>\n",
       "      <td>Excellent</td>\n",
       "    </tr>\n",
       "    <tr>\n",
       "      <th>3</th>\n",
       "      <td>4</td>\n",
       "      <td>Sing</td>\n",
       "      <td>Animation,Comedy,Family</td>\n",
       "      <td>In a city of humanoid animals, a hustling thea...</td>\n",
       "      <td>Christophe Lourdelet</td>\n",
       "      <td>Matthew McConaughey,Reese Witherspoon, Seth Ma...</td>\n",
       "      <td>2016</td>\n",
       "      <td>108</td>\n",
       "      <td>7.2</td>\n",
       "      <td>60545</td>\n",
       "      <td>270.32</td>\n",
       "      <td>59.0</td>\n",
       "      <td>Excellent</td>\n",
       "    </tr>\n",
       "    <tr>\n",
       "      <th>4</th>\n",
       "      <td>5</td>\n",
       "      <td>Suicide Squad</td>\n",
       "      <td>Action,Adventure,Fantasy</td>\n",
       "      <td>A secret government agency recruits some of th...</td>\n",
       "      <td>David Ayer</td>\n",
       "      <td>Will Smith, Jared Leto, Margot Robbie, Viola D...</td>\n",
       "      <td>2016</td>\n",
       "      <td>123</td>\n",
       "      <td>6.2</td>\n",
       "      <td>393727</td>\n",
       "      <td>325.02</td>\n",
       "      <td>40.0</td>\n",
       "      <td>good</td>\n",
       "    </tr>\n",
       "  </tbody>\n",
       "</table>\n",
       "</div>"
      ],
      "text/plain": [
       "   Rank                    Title                     Genre  \\\n",
       "0     1  Guardians of the Galaxy   Action,Adventure,Sci-Fi   \n",
       "1     2               Prometheus  Adventure,Mystery,Sci-Fi   \n",
       "2     3                    Split           Horror,Thriller   \n",
       "3     4                     Sing   Animation,Comedy,Family   \n",
       "4     5            Suicide Squad  Action,Adventure,Fantasy   \n",
       "\n",
       "                                         Description              Director  \\\n",
       "0  A group of intergalactic criminals are forced ...            James Gunn   \n",
       "1  Following clues to the origin of mankind, a te...          Ridley Scott   \n",
       "2  Three girls are kidnapped by a man with a diag...    M. Night Shyamalan   \n",
       "3  In a city of humanoid animals, a hustling thea...  Christophe Lourdelet   \n",
       "4  A secret government agency recruits some of th...            David Ayer   \n",
       "\n",
       "                                              Actors  Year  Runtime (Minutes)  \\\n",
       "0  Chris Pratt, Vin Diesel, Bradley Cooper, Zoe S...  2014                121   \n",
       "1  Noomi Rapace, Logan Marshall-Green, Michael Fa...  2012                124   \n",
       "2  James McAvoy, Anya Taylor-Joy, Haley Lu Richar...  2016                117   \n",
       "3  Matthew McConaughey,Reese Witherspoon, Seth Ma...  2016                108   \n",
       "4  Will Smith, Jared Leto, Margot Robbie, Viola D...  2016                123   \n",
       "\n",
       "   Rating   Votes  Revenue (Millions)  Metascore rating_cat  \n",
       "0     8.1  757074              333.13       76.0  Excellent  \n",
       "1     7.0  485820              126.46       65.0  Excellent  \n",
       "2     7.3  157606              138.12       62.0  Excellent  \n",
       "3     7.2   60545              270.32       59.0  Excellent  \n",
       "4     6.2  393727              325.02       40.0       good  "
      ]
     },
     "execution_count": 242,
     "metadata": {},
     "output_type": "execute_result"
    }
   ],
   "source": [
    "data.head(5)"
   ]
  },
  {
   "cell_type": "markdown",
   "id": "e7e56742-13f2-4a4d-9d7e-4d1c224093c2",
   "metadata": {},
   "source": [
    "# Count Number of Action Movies "
   ]
  },
  {
   "cell_type": "code",
   "execution_count": 245,
   "id": "5d259990-d64a-4693-9ef8-9f22c6b0d071",
   "metadata": {
    "tags": []
   },
   "outputs": [
    {
     "data": {
      "text/plain": [
       "Index(['Rank', 'Title', 'Genre', 'Description', 'Director', 'Actors', 'Year',\n",
       "       'Runtime (Minutes)', 'Rating', 'Votes', 'Revenue (Millions)',\n",
       "       'Metascore', 'rating_cat'],\n",
       "      dtype='object')"
      ]
     },
     "execution_count": 245,
     "metadata": {},
     "output_type": "execute_result"
    }
   ],
   "source": [
    "data.columns"
   ]
  },
  {
   "cell_type": "code",
   "execution_count": 247,
   "id": "df4847cc-e7fa-48e5-916a-31d91ed8f762",
   "metadata": {
    "tags": []
   },
   "outputs": [
    {
     "data": {
      "text/plain": [
       "dtype('O')"
      ]
     },
     "execution_count": 247,
     "metadata": {},
     "output_type": "execute_result"
    }
   ],
   "source": [
    "data['Genre'].dtype"
   ]
  },
  {
   "cell_type": "code",
   "execution_count": 253,
   "id": "e346a49c-f43f-4559-9b5d-3a606127d9cf",
   "metadata": {
    "tags": []
   },
   "outputs": [
    {
     "data": {
      "text/plain": [
       "303"
      ]
     },
     "execution_count": 253,
     "metadata": {},
     "output_type": "execute_result"
    }
   ],
   "source": [
    "len(data[data['Genre'].str.contains('Action', case =False)])"
   ]
  },
  {
   "cell_type": "markdown",
   "id": "dead9828-471d-48df-a6fc-589c0dd1d14f",
   "metadata": {},
   "source": [
    "# Find unique values from genre"
   ]
  },
  {
   "cell_type": "code",
   "execution_count": 256,
   "id": "4d81593d-be8c-4f0c-bc16-dfb0f823ce20",
   "metadata": {
    "tags": []
   },
   "outputs": [
    {
     "data": {
      "text/plain": [
       "Index(['Rank', 'Title', 'Genre', 'Description', 'Director', 'Actors', 'Year',\n",
       "       'Runtime (Minutes)', 'Rating', 'Votes', 'Revenue (Millions)',\n",
       "       'Metascore', 'rating_cat'],\n",
       "      dtype='object')"
      ]
     },
     "execution_count": 256,
     "metadata": {},
     "output_type": "execute_result"
    }
   ],
   "source": [
    "data.columns"
   ]
  },
  {
   "cell_type": "code",
   "execution_count": 264,
   "id": "01b9a56a-58bf-4fb7-bff5-84cf6551edf7",
   "metadata": {
    "tags": []
   },
   "outputs": [
    {
     "data": {
      "text/plain": [
       "0       Action,Adventure,Sci-Fi\n",
       "1      Adventure,Mystery,Sci-Fi\n",
       "2               Horror,Thriller\n",
       "3       Animation,Comedy,Family\n",
       "4      Action,Adventure,Fantasy\n",
       "                 ...           \n",
       "995         Crime,Drama,Mystery\n",
       "996                      Horror\n",
       "997         Drama,Music,Romance\n",
       "998            Adventure,Comedy\n",
       "999       Comedy,Family,Fantasy\n",
       "Name: Genre, Length: 1000, dtype: object"
      ]
     },
     "execution_count": 264,
     "metadata": {},
     "output_type": "execute_result"
    }
   ],
   "source": [
    "data['Genre']"
   ]
  },
  {
   "cell_type": "code",
   "execution_count": 266,
   "id": "942b5498-4996-4aa3-b5bc-418321011ecb",
   "metadata": {
    "tags": []
   },
   "outputs": [],
   "source": [
    "list1=[]\n",
    "for value in data['Genre']:\n",
    "    list1.append(value.split(','))"
   ]
  },
  {
   "cell_type": "code",
   "execution_count": 271,
   "id": "5a64e728-f4c5-4f23-bb99-c021333f7819",
   "metadata": {
    "tags": []
   },
   "outputs": [],
   "source": [
    "one_d=[]\n",
    "for item in list1:\n",
    "    for item1 in item:\n",
    "        one_d.append(item1) "
   ]
  },
  {
   "cell_type": "code",
   "execution_count": 273,
   "id": "c9078eeb-5e6e-43cd-8d2d-cf06f195e60f",
   "metadata": {
    "collapsed": true,
    "jupyter": {
     "outputs_hidden": true
    },
    "tags": []
   },
   "outputs": [
    {
     "data": {
      "text/plain": [
       "['Action',\n",
       " 'Adventure',\n",
       " 'Sci-Fi',\n",
       " 'Adventure',\n",
       " 'Mystery',\n",
       " 'Sci-Fi',\n",
       " 'Horror',\n",
       " 'Thriller',\n",
       " 'Animation',\n",
       " 'Comedy',\n",
       " 'Family',\n",
       " 'Action',\n",
       " 'Adventure',\n",
       " 'Fantasy',\n",
       " 'Action',\n",
       " 'Adventure',\n",
       " 'Fantasy',\n",
       " 'Comedy',\n",
       " 'Drama',\n",
       " 'Music',\n",
       " 'Comedy',\n",
       " 'Action',\n",
       " 'Adventure',\n",
       " 'Biography',\n",
       " 'Adventure',\n",
       " 'Drama',\n",
       " 'Romance',\n",
       " 'Adventure',\n",
       " 'Family',\n",
       " 'Fantasy',\n",
       " 'Biography',\n",
       " 'Drama',\n",
       " 'History',\n",
       " 'Action',\n",
       " 'Adventure',\n",
       " 'Sci-Fi',\n",
       " 'Animation',\n",
       " 'Adventure',\n",
       " 'Comedy',\n",
       " 'Action',\n",
       " 'Comedy',\n",
       " 'Drama',\n",
       " 'Animation',\n",
       " 'Adventure',\n",
       " 'Comedy',\n",
       " 'Biography',\n",
       " 'Drama',\n",
       " 'History',\n",
       " 'Action',\n",
       " 'Thriller',\n",
       " 'Biography',\n",
       " 'Drama',\n",
       " 'Drama',\n",
       " 'Mystery',\n",
       " 'Sci-Fi',\n",
       " 'Adventure',\n",
       " 'Drama',\n",
       " 'Thriller',\n",
       " 'Drama',\n",
       " 'Crime',\n",
       " 'Drama',\n",
       " 'Horror',\n",
       " 'Animation',\n",
       " 'Adventure',\n",
       " 'Comedy',\n",
       " 'Action',\n",
       " 'Adventure',\n",
       " 'Sci-Fi',\n",
       " 'Comedy',\n",
       " 'Action',\n",
       " 'Adventure',\n",
       " 'Drama',\n",
       " 'Horror',\n",
       " 'Thriller',\n",
       " 'Comedy',\n",
       " 'Action',\n",
       " 'Adventure',\n",
       " 'Drama',\n",
       " 'Comedy',\n",
       " 'Drama',\n",
       " 'Thriller',\n",
       " 'Action',\n",
       " 'Adventure',\n",
       " 'Sci-Fi',\n",
       " 'Action',\n",
       " 'Adventure',\n",
       " 'Comedy',\n",
       " 'Action',\n",
       " 'Horror',\n",
       " 'Sci-Fi',\n",
       " 'Action',\n",
       " 'Adventure',\n",
       " 'Sci-Fi',\n",
       " 'Adventure',\n",
       " 'Drama',\n",
       " 'Sci-Fi',\n",
       " 'Action',\n",
       " 'Adventure',\n",
       " 'Fantasy',\n",
       " 'Action',\n",
       " 'Adventure',\n",
       " 'Western',\n",
       " 'Comedy',\n",
       " 'Drama',\n",
       " 'Animation',\n",
       " 'Adventure',\n",
       " 'Comedy',\n",
       " 'Drama',\n",
       " 'Horror',\n",
       " 'Biography',\n",
       " 'Drama',\n",
       " 'History',\n",
       " 'Drama',\n",
       " 'Action',\n",
       " 'Adventure',\n",
       " 'Fantasy',\n",
       " 'Drama',\n",
       " 'Thriller',\n",
       " 'Adventure',\n",
       " 'Drama',\n",
       " 'Fantasy',\n",
       " 'Action',\n",
       " 'Adventure',\n",
       " 'Sci-Fi',\n",
       " 'Drama',\n",
       " 'Action',\n",
       " 'Adventure',\n",
       " 'Fantasy',\n",
       " 'Action',\n",
       " 'Adventure',\n",
       " 'Fantasy',\n",
       " 'Comedy',\n",
       " 'Drama',\n",
       " 'Action',\n",
       " 'Crime',\n",
       " 'Thriller',\n",
       " 'Action',\n",
       " 'Crime',\n",
       " 'Drama',\n",
       " 'Adventure',\n",
       " 'Drama',\n",
       " 'History',\n",
       " 'Crime',\n",
       " 'Horror',\n",
       " 'Thriller',\n",
       " 'Drama',\n",
       " 'Romance',\n",
       " 'Comedy',\n",
       " 'Drama',\n",
       " 'Romance',\n",
       " 'Biography',\n",
       " 'Drama',\n",
       " 'Action',\n",
       " 'Adventure',\n",
       " 'Sci-Fi',\n",
       " 'Horror',\n",
       " 'Mystery',\n",
       " 'Thriller',\n",
       " 'Crime',\n",
       " 'Drama',\n",
       " 'Mystery',\n",
       " 'Drama',\n",
       " 'Romance',\n",
       " 'Thriller',\n",
       " 'Drama',\n",
       " 'Mystery',\n",
       " 'Sci-Fi',\n",
       " 'Action',\n",
       " 'Adventure',\n",
       " 'Comedy',\n",
       " 'Drama',\n",
       " 'History',\n",
       " 'Thriller',\n",
       " 'Action',\n",
       " 'Adventure',\n",
       " 'Sci-Fi',\n",
       " 'Drama',\n",
       " 'Action',\n",
       " 'Drama',\n",
       " 'Thriller',\n",
       " 'Drama',\n",
       " 'History',\n",
       " 'Action',\n",
       " 'Drama',\n",
       " 'Romance',\n",
       " 'Drama',\n",
       " 'Fantasy',\n",
       " 'Drama',\n",
       " 'Romance',\n",
       " 'Animation',\n",
       " 'Adventure',\n",
       " 'Comedy',\n",
       " 'Action',\n",
       " 'Adventure',\n",
       " 'Fantasy',\n",
       " 'Action',\n",
       " 'Sci-Fi',\n",
       " 'Adventure',\n",
       " 'Drama',\n",
       " 'War',\n",
       " 'Action',\n",
       " 'Adventure',\n",
       " 'Fantasy',\n",
       " 'Action',\n",
       " 'Comedy',\n",
       " 'Fantasy',\n",
       " 'Action',\n",
       " 'Adventure',\n",
       " 'Sci-Fi',\n",
       " 'Comedy',\n",
       " 'Drama',\n",
       " 'Biography',\n",
       " 'Comedy',\n",
       " 'Crime',\n",
       " 'Crime',\n",
       " 'Drama',\n",
       " 'Mystery',\n",
       " 'Action',\n",
       " 'Crime',\n",
       " 'Thriller',\n",
       " 'Action',\n",
       " 'Adventure',\n",
       " 'Sci-Fi',\n",
       " 'Crime',\n",
       " 'Drama',\n",
       " 'Action',\n",
       " 'Adventure',\n",
       " 'Fantasy',\n",
       " 'Crime',\n",
       " 'Drama',\n",
       " 'Mystery',\n",
       " 'Action',\n",
       " 'Crime',\n",
       " 'Drama',\n",
       " 'Crime',\n",
       " 'Drama',\n",
       " 'Mystery',\n",
       " 'Action',\n",
       " 'Adventure',\n",
       " 'Fantasy',\n",
       " 'Drama',\n",
       " 'Comedy',\n",
       " 'Crime',\n",
       " 'Drama',\n",
       " 'Action',\n",
       " 'Adventure',\n",
       " 'Sci-Fi',\n",
       " 'Action',\n",
       " 'Comedy',\n",
       " 'Crime',\n",
       " 'Animation',\n",
       " 'Drama',\n",
       " 'Fantasy',\n",
       " 'Horror',\n",
       " 'Mystery',\n",
       " 'Sci-Fi',\n",
       " 'Drama',\n",
       " 'Mystery',\n",
       " 'Thriller',\n",
       " 'Crime',\n",
       " 'Drama',\n",
       " 'Thriller',\n",
       " 'Biography',\n",
       " 'Crime',\n",
       " 'Drama',\n",
       " 'Action',\n",
       " 'Adventure',\n",
       " 'Fantasy',\n",
       " 'Adventure',\n",
       " 'Drama',\n",
       " 'Sci-Fi',\n",
       " 'Crime',\n",
       " 'Mystery',\n",
       " 'Thriller',\n",
       " 'Action',\n",
       " 'Adventure',\n",
       " 'Comedy',\n",
       " 'Crime',\n",
       " 'Drama',\n",
       " 'Thriller',\n",
       " 'Comedy',\n",
       " 'Action',\n",
       " 'Adventure',\n",
       " 'Drama',\n",
       " 'Drama',\n",
       " 'Drama',\n",
       " 'Mystery',\n",
       " 'Sci-Fi',\n",
       " 'Action',\n",
       " 'Horror',\n",
       " 'Thriller',\n",
       " 'Biography',\n",
       " 'Drama',\n",
       " 'History',\n",
       " 'Romance',\n",
       " 'Sci-Fi',\n",
       " 'Action',\n",
       " 'Fantasy',\n",
       " 'War',\n",
       " 'Adventure',\n",
       " 'Drama',\n",
       " 'Fantasy',\n",
       " 'Comedy',\n",
       " 'Horror',\n",
       " 'Thriller',\n",
       " 'Action',\n",
       " 'Biography',\n",
       " 'Drama',\n",
       " 'Drama',\n",
       " 'Horror',\n",
       " 'Mystery',\n",
       " 'Animation',\n",
       " 'Adventure',\n",
       " 'Comedy',\n",
       " 'Adventure',\n",
       " 'Drama',\n",
       " 'Family',\n",
       " 'Adventure',\n",
       " 'Mystery',\n",
       " 'Sci-Fi',\n",
       " 'Adventure',\n",
       " 'Comedy',\n",
       " 'Romance',\n",
       " 'Action',\n",
       " 'Action',\n",
       " 'Thriller',\n",
       " 'Adventure',\n",
       " 'Drama',\n",
       " 'Family',\n",
       " 'Action',\n",
       " 'Adventure',\n",
       " 'Sci-Fi',\n",
       " 'Adventure',\n",
       " 'Crime',\n",
       " 'Mystery',\n",
       " 'Comedy',\n",
       " 'Family',\n",
       " 'Musical',\n",
       " 'Adventure',\n",
       " 'Drama',\n",
       " 'Thriller',\n",
       " 'Drama',\n",
       " 'Adventure',\n",
       " 'Comedy',\n",
       " 'Drama',\n",
       " 'Drama',\n",
       " 'Horror',\n",
       " 'Thriller',\n",
       " 'Drama',\n",
       " 'Music',\n",
       " 'Action',\n",
       " 'Crime',\n",
       " 'Thriller',\n",
       " 'Crime',\n",
       " 'Drama',\n",
       " 'Thriller',\n",
       " 'Crime',\n",
       " 'Drama',\n",
       " 'Thriller',\n",
       " 'Drama',\n",
       " 'Romance',\n",
       " 'Mystery',\n",
       " 'Thriller',\n",
       " 'Mystery',\n",
       " 'Thriller',\n",
       " 'Western',\n",
       " 'Action',\n",
       " 'Adventure',\n",
       " 'Sci-Fi',\n",
       " 'Comedy',\n",
       " 'Family',\n",
       " 'Biography',\n",
       " 'Comedy',\n",
       " 'Drama',\n",
       " 'Drama',\n",
       " 'Drama',\n",
       " 'Western',\n",
       " 'Drama',\n",
       " 'Mystery',\n",
       " 'Romance',\n",
       " 'Comedy',\n",
       " 'Drama',\n",
       " 'Action',\n",
       " 'Drama',\n",
       " 'Mystery',\n",
       " 'Comedy',\n",
       " 'Action',\n",
       " 'Adventure',\n",
       " 'Crime',\n",
       " 'Adventure',\n",
       " 'Family',\n",
       " 'Fantasy',\n",
       " 'Adventure',\n",
       " 'Sci-Fi',\n",
       " 'Thriller',\n",
       " 'Drama',\n",
       " 'Action',\n",
       " 'Crime',\n",
       " 'Drama',\n",
       " 'Drama',\n",
       " 'Horror',\n",
       " 'Mystery',\n",
       " 'Action',\n",
       " 'Horror',\n",
       " 'Sci-Fi',\n",
       " 'Action',\n",
       " 'Adventure',\n",
       " 'Sci-Fi',\n",
       " 'Comedy',\n",
       " 'Drama',\n",
       " 'Romance',\n",
       " 'Action',\n",
       " 'Comedy',\n",
       " 'Fantasy',\n",
       " 'Action',\n",
       " 'Comedy',\n",
       " 'Mystery',\n",
       " 'Thriller',\n",
       " 'War',\n",
       " 'Action',\n",
       " 'Comedy',\n",
       " 'Crime',\n",
       " 'Action',\n",
       " 'Adventure',\n",
       " 'Sci-Fi',\n",
       " 'Action',\n",
       " 'Adventure',\n",
       " 'Crime',\n",
       " 'Action',\n",
       " 'Adventure',\n",
       " 'Thriller',\n",
       " 'Drama',\n",
       " 'Fantasy',\n",
       " 'Romance',\n",
       " 'Action',\n",
       " 'Adventure',\n",
       " 'Comedy',\n",
       " 'Biography',\n",
       " 'Drama',\n",
       " 'History',\n",
       " 'Action',\n",
       " 'Drama',\n",
       " 'History',\n",
       " 'Action',\n",
       " 'Adventure',\n",
       " 'Thriller',\n",
       " 'Crime',\n",
       " 'Drama',\n",
       " 'Thriller',\n",
       " 'Animation',\n",
       " 'Adventure',\n",
       " 'Family',\n",
       " 'Adventure',\n",
       " 'Horror',\n",
       " 'Drama',\n",
       " 'Romance',\n",
       " 'Sci-Fi',\n",
       " 'Animation',\n",
       " 'Adventure',\n",
       " 'Comedy',\n",
       " 'Action',\n",
       " 'Adventure',\n",
       " 'Family',\n",
       " 'Action',\n",
       " 'Adventure',\n",
       " 'Drama',\n",
       " 'Action',\n",
       " 'Comedy',\n",
       " 'Horror',\n",
       " 'Mystery',\n",
       " 'Thriller',\n",
       " 'Action',\n",
       " 'Adventure',\n",
       " 'Comedy',\n",
       " 'Comedy',\n",
       " 'Romance',\n",
       " 'Horror',\n",
       " 'Mystery',\n",
       " 'Drama',\n",
       " 'Family',\n",
       " 'Fantasy',\n",
       " 'Sci-Fi',\n",
       " 'Drama',\n",
       " 'Thriller',\n",
       " 'Drama',\n",
       " 'Romance',\n",
       " 'Drama',\n",
       " 'War',\n",
       " 'Drama',\n",
       " 'Fantasy',\n",
       " 'Horror',\n",
       " 'Crime',\n",
       " 'Drama',\n",
       " 'Comedy',\n",
       " 'Drama',\n",
       " 'Romance',\n",
       " 'Drama',\n",
       " 'Romance',\n",
       " 'Drama',\n",
       " 'Crime',\n",
       " 'Drama',\n",
       " 'History',\n",
       " 'Horror',\n",
       " 'Sci-Fi',\n",
       " 'Thriller',\n",
       " 'Action',\n",
       " 'Drama',\n",
       " 'Sport',\n",
       " 'Action',\n",
       " 'Adventure',\n",
       " 'Sci-Fi',\n",
       " 'Crime',\n",
       " 'Drama',\n",
       " 'Thriller',\n",
       " 'Adventure',\n",
       " 'Biography',\n",
       " 'Drama',\n",
       " 'Biography',\n",
       " 'Drama',\n",
       " 'Thriller',\n",
       " 'Action',\n",
       " 'Comedy',\n",
       " 'Crime',\n",
       " 'Action',\n",
       " 'Adventure',\n",
       " 'Sci-Fi',\n",
       " 'Drama',\n",
       " 'Fantasy',\n",
       " 'Horror',\n",
       " 'Biography',\n",
       " 'Drama',\n",
       " 'Thriller',\n",
       " 'Action',\n",
       " 'Adventure',\n",
       " 'Sci-Fi',\n",
       " 'Action',\n",
       " 'Adventure',\n",
       " 'Mystery',\n",
       " 'Action',\n",
       " 'Adventure',\n",
       " 'Sci-Fi',\n",
       " 'Drama',\n",
       " 'Horror',\n",
       " 'Comedy',\n",
       " 'Drama',\n",
       " 'Romance',\n",
       " 'Comedy',\n",
       " 'Romance',\n",
       " 'Drama',\n",
       " 'Horror',\n",
       " 'Thriller',\n",
       " 'Action',\n",
       " 'Adventure',\n",
       " 'Drama',\n",
       " 'Drama',\n",
       " 'Action',\n",
       " 'Adventure',\n",
       " 'Sci-Fi',\n",
       " 'Action',\n",
       " 'Drama',\n",
       " 'Mystery',\n",
       " 'Action',\n",
       " 'Adventure',\n",
       " 'Fantasy',\n",
       " 'Action',\n",
       " 'Adventure',\n",
       " 'Fantasy',\n",
       " 'Action',\n",
       " 'Adventure',\n",
       " 'Sci-Fi',\n",
       " 'Action',\n",
       " 'Adventure',\n",
       " 'Comedy',\n",
       " 'Drama',\n",
       " 'Horror',\n",
       " 'Action',\n",
       " 'Comedy',\n",
       " 'Action',\n",
       " 'Adventure',\n",
       " 'Sci-Fi',\n",
       " 'Animation',\n",
       " 'Adventure',\n",
       " 'Comedy',\n",
       " 'Horror',\n",
       " 'Mystery',\n",
       " 'Crime',\n",
       " 'Drama',\n",
       " 'Mystery',\n",
       " 'Comedy',\n",
       " 'Crime',\n",
       " 'Drama',\n",
       " 'Comedy',\n",
       " 'Drama',\n",
       " 'Romance',\n",
       " 'Action',\n",
       " 'Adventure',\n",
       " 'Sci-Fi',\n",
       " 'Action',\n",
       " 'Adventure',\n",
       " 'Family',\n",
       " 'Horror',\n",
       " 'Sci-Fi',\n",
       " 'Thriller',\n",
       " 'Drama',\n",
       " 'Fantasy',\n",
       " 'War',\n",
       " 'Crime',\n",
       " 'Drama',\n",
       " 'Thriller',\n",
       " 'Action',\n",
       " 'Adventure',\n",
       " 'Drama',\n",
       " 'Action',\n",
       " 'Adventure',\n",
       " 'Thriller',\n",
       " 'Action',\n",
       " 'Adventure',\n",
       " 'Drama',\n",
       " 'Drama',\n",
       " 'Romance',\n",
       " 'Biography',\n",
       " 'Drama',\n",
       " 'History',\n",
       " 'Drama',\n",
       " 'Horror',\n",
       " 'Thriller',\n",
       " 'Adventure',\n",
       " 'Comedy',\n",
       " 'Drama',\n",
       " 'Action',\n",
       " 'Adventure',\n",
       " 'Romance',\n",
       " 'Action',\n",
       " 'Drama',\n",
       " 'War',\n",
       " 'Animation',\n",
       " 'Adventure',\n",
       " 'Comedy',\n",
       " 'Animation',\n",
       " 'Adventure',\n",
       " 'Comedy',\n",
       " 'Action',\n",
       " 'Adventure',\n",
       " 'Sci-Fi',\n",
       " 'Adventure',\n",
       " 'Family',\n",
       " 'Fantasy',\n",
       " 'Drama',\n",
       " 'Musical',\n",
       " 'Romance',\n",
       " 'Drama',\n",
       " 'Sci-Fi',\n",
       " 'Thriller',\n",
       " 'Comedy',\n",
       " 'Drama',\n",
       " 'Action',\n",
       " 'Comedy',\n",
       " 'Crime',\n",
       " 'Biography',\n",
       " 'Comedy',\n",
       " 'Drama',\n",
       " 'Comedy',\n",
       " 'Drama',\n",
       " 'Romance',\n",
       " 'Drama',\n",
       " 'Thriller',\n",
       " 'Biography',\n",
       " 'Drama',\n",
       " 'History',\n",
       " 'Action',\n",
       " 'Adventure',\n",
       " 'Sci-Fi',\n",
       " 'Horror',\n",
       " 'Mystery',\n",
       " 'Thriller',\n",
       " 'Comedy',\n",
       " 'Action',\n",
       " 'Adventure',\n",
       " 'Sci-Fi',\n",
       " 'Action',\n",
       " 'Drama',\n",
       " 'Sci-Fi',\n",
       " 'Horror',\n",
       " 'Drama',\n",
       " 'Thriller',\n",
       " 'Comedy',\n",
       " 'Drama',\n",
       " 'Romance',\n",
       " 'Drama',\n",
       " 'Thriller',\n",
       " 'Comedy',\n",
       " 'Drama',\n",
       " 'Drama',\n",
       " 'Action',\n",
       " 'Adventure',\n",
       " 'Comedy',\n",
       " 'Drama',\n",
       " 'Horror',\n",
       " 'Thriller',\n",
       " 'Comedy',\n",
       " 'Drama',\n",
       " 'Sci-Fi',\n",
       " 'Action',\n",
       " 'Adventure',\n",
       " 'Sci-Fi',\n",
       " 'Horror',\n",
       " 'Action',\n",
       " 'Adventure',\n",
       " 'Thriller',\n",
       " 'Adventure',\n",
       " 'Fantasy',\n",
       " 'Action',\n",
       " 'Comedy',\n",
       " 'Crime',\n",
       " 'Comedy',\n",
       " 'Drama',\n",
       " 'Music',\n",
       " 'Animation',\n",
       " 'Adventure',\n",
       " 'Comedy',\n",
       " 'Action',\n",
       " 'Adventure',\n",
       " 'Mystery',\n",
       " 'Action',\n",
       " 'Comedy',\n",
       " 'Crime',\n",
       " 'Crime',\n",
       " 'Drama',\n",
       " 'History',\n",
       " 'Comedy',\n",
       " 'Action',\n",
       " 'Adventure',\n",
       " 'Sci-Fi',\n",
       " 'Crime',\n",
       " 'Mystery',\n",
       " 'Thriller',\n",
       " 'Action',\n",
       " 'Adventure',\n",
       " 'Crime',\n",
       " 'Thriller',\n",
       " 'Biography',\n",
       " 'Drama',\n",
       " 'Romance',\n",
       " 'Action',\n",
       " 'Adventure',\n",
       " 'Action',\n",
       " 'Fantasy',\n",
       " 'Action',\n",
       " 'Comedy',\n",
       " 'Action',\n",
       " 'Adventure',\n",
       " 'Sci-Fi',\n",
       " 'Action',\n",
       " 'Comedy',\n",
       " 'Crime',\n",
       " 'Thriller',\n",
       " 'Action',\n",
       " 'Drama',\n",
       " 'Horror',\n",
       " 'Comedy',\n",
       " 'Music',\n",
       " 'Romance',\n",
       " 'Comedy',\n",
       " 'Drama',\n",
       " 'Action',\n",
       " 'Adventure',\n",
       " 'Fantasy',\n",
       " 'Drama',\n",
       " 'Romance',\n",
       " 'Animation',\n",
       " 'Adventure',\n",
       " 'Comedy',\n",
       " 'Comedy',\n",
       " 'Drama',\n",
       " 'Biography',\n",
       " 'Crime',\n",
       " 'Drama',\n",
       " 'Drama',\n",
       " 'History',\n",
       " 'Action',\n",
       " 'Crime',\n",
       " 'Thriller',\n",
       " 'Action',\n",
       " 'Biography',\n",
       " 'Drama',\n",
       " 'Horror',\n",
       " 'Comedy',\n",
       " 'Romance',\n",
       " 'Comedy',\n",
       " 'Romance',\n",
       " 'Comedy',\n",
       " 'Crime',\n",
       " 'Drama',\n",
       " 'Adventure',\n",
       " 'Family',\n",
       " 'Fantasy',\n",
       " 'Crime',\n",
       " 'Drama',\n",
       " 'Thriller',\n",
       " 'Action',\n",
       " 'Crime',\n",
       " 'Thriller',\n",
       " 'Comedy',\n",
       " 'Romance',\n",
       " 'Biography',\n",
       " 'Drama',\n",
       " 'Sport',\n",
       " 'Drama',\n",
       " 'Romance',\n",
       " 'Drama',\n",
       " 'Horror',\n",
       " 'Adventure',\n",
       " 'Fantasy',\n",
       " 'Adventure',\n",
       " 'Family',\n",
       " 'Fantasy',\n",
       " 'Action',\n",
       " 'Drama',\n",
       " 'Sci-Fi',\n",
       " 'Action',\n",
       " 'Adventure',\n",
       " 'Sci-Fi',\n",
       " 'Action',\n",
       " 'Horror',\n",
       " 'Comedy',\n",
       " 'Horror',\n",
       " 'Thriller',\n",
       " 'Action',\n",
       " 'Crime',\n",
       " 'Thriller',\n",
       " 'Crime',\n",
       " 'Drama',\n",
       " 'Music',\n",
       " 'Drama',\n",
       " 'Action',\n",
       " 'Crime',\n",
       " 'Thriller',\n",
       " 'Action',\n",
       " 'Sci-Fi',\n",
       " 'Thriller',\n",
       " 'Biography',\n",
       " 'Drama',\n",
       " 'Action',\n",
       " 'Adventure',\n",
       " 'Fantasy',\n",
       " 'Drama',\n",
       " 'Horror',\n",
       " 'Sci-Fi',\n",
       " 'Biography',\n",
       " 'Comedy',\n",
       " 'Drama',\n",
       " 'Crime',\n",
       " 'Horror',\n",
       " 'Thriller',\n",
       " 'Crime',\n",
       " 'Drama',\n",
       " 'Mystery',\n",
       " 'Animation',\n",
       " 'Adventure',\n",
       " 'Comedy',\n",
       " 'Action',\n",
       " 'Biography',\n",
       " 'Drama',\n",
       " 'Biography',\n",
       " 'Drama',\n",
       " 'Biography',\n",
       " 'Drama',\n",
       " 'History',\n",
       " 'Action',\n",
       " 'Biography',\n",
       " 'Drama',\n",
       " 'Drama',\n",
       " 'Fantasy',\n",
       " 'Horror',\n",
       " 'Comedy',\n",
       " 'Drama',\n",
       " 'Romance',\n",
       " 'Drama',\n",
       " 'Sport',\n",
       " 'Drama',\n",
       " 'Romance',\n",
       " 'Comedy',\n",
       " 'Romance',\n",
       " 'Action',\n",
       " 'Crime',\n",
       " 'Thriller',\n",
       " 'Action',\n",
       " 'Crime',\n",
       " 'Drama',\n",
       " 'Action',\n",
       " 'Drama',\n",
       " 'Thriller',\n",
       " 'Adventure',\n",
       " 'Family',\n",
       " 'Fantasy',\n",
       " 'Action',\n",
       " 'Adventure',\n",
       " 'Action',\n",
       " 'Adventure',\n",
       " 'Romance',\n",
       " 'Adventure',\n",
       " 'Family',\n",
       " 'Fantasy',\n",
       " 'Crime',\n",
       " 'Drama',\n",
       " 'Comedy',\n",
       " 'Horror',\n",
       " 'Comedy',\n",
       " 'Fantasy',\n",
       " 'Romance',\n",
       " 'Drama',\n",
       " 'Drama',\n",
       " 'Comedy',\n",
       " 'Drama',\n",
       " 'Comedy',\n",
       " 'Drama',\n",
       " 'Romance',\n",
       " 'Adventure',\n",
       " 'Sci-Fi',\n",
       " 'Thriller',\n",
       " 'Action',\n",
       " 'Adventure',\n",
       " 'Fantasy',\n",
       " 'Comedy',\n",
       " 'Drama',\n",
       " 'Biography',\n",
       " 'Drama',\n",
       " 'Romance',\n",
       " 'Comedy',\n",
       " 'Fantasy',\n",
       " 'Comedy',\n",
       " 'Drama',\n",
       " 'Fantasy',\n",
       " 'Comedy',\n",
       " 'Horror',\n",
       " 'Thriller',\n",
       " 'Action',\n",
       " 'Adventure',\n",
       " 'Sci-Fi',\n",
       " 'Adventure',\n",
       " 'Comedy',\n",
       " 'Horror',\n",
       " 'Comedy',\n",
       " 'Mystery',\n",
       " 'Drama',\n",
       " 'Adventure',\n",
       " 'Drama',\n",
       " 'Fantasy',\n",
       " 'Drama',\n",
       " 'Sport',\n",
       " 'Action',\n",
       " 'Adventure',\n",
       " 'Action',\n",
       " 'Adventure',\n",
       " 'Drama',\n",
       " 'Action',\n",
       " 'Drama',\n",
       " 'Sci-Fi',\n",
       " 'Action',\n",
       " 'Mystery',\n",
       " 'Sci-Fi',\n",
       " 'Action',\n",
       " 'Crime',\n",
       " 'Drama',\n",
       " 'Action',\n",
       " 'Crime',\n",
       " 'Fantasy',\n",
       " 'Biography',\n",
       " 'Comedy',\n",
       " 'Drama',\n",
       " 'Action',\n",
       " 'Crime',\n",
       " 'Thriller',\n",
       " 'Biography',\n",
       " 'Crime',\n",
       " 'Drama',\n",
       " 'Drama',\n",
       " 'Sport',\n",
       " 'Adventure',\n",
       " 'Comedy',\n",
       " 'Drama',\n",
       " 'Action',\n",
       " 'Adventure',\n",
       " 'Thriller',\n",
       " 'Comedy',\n",
       " 'Fantasy',\n",
       " 'Horror',\n",
       " 'Drama',\n",
       " 'Sport',\n",
       " 'Horror',\n",
       " 'Thriller',\n",
       " 'Drama',\n",
       " 'History',\n",
       " 'Thriller',\n",
       " 'Animation',\n",
       " 'Action',\n",
       " 'Adventure',\n",
       " 'Action',\n",
       " 'Adventure',\n",
       " 'Drama',\n",
       " ...]"
      ]
     },
     "execution_count": 273,
     "metadata": {},
     "output_type": "execute_result"
    }
   ],
   "source": [
    "one_d"
   ]
  },
  {
   "cell_type": "code",
   "execution_count": 275,
   "id": "736e870a-a773-4f0c-9386-f1e2f1b099ae",
   "metadata": {
    "tags": []
   },
   "outputs": [],
   "source": [
    "uni_list=[]\n",
    "for item in one_d:\n",
    "    if item not in uni_list:\n",
    "        uni_list.append(item)"
   ]
  },
  {
   "cell_type": "code",
   "execution_count": 277,
   "id": "42085f35-9a82-4760-9f8a-58583d1323bb",
   "metadata": {
    "tags": []
   },
   "outputs": [
    {
     "data": {
      "text/plain": [
       "['Action',\n",
       " 'Adventure',\n",
       " 'Sci-Fi',\n",
       " 'Mystery',\n",
       " 'Horror',\n",
       " 'Thriller',\n",
       " 'Animation',\n",
       " 'Comedy',\n",
       " 'Family',\n",
       " 'Fantasy',\n",
       " 'Drama',\n",
       " 'Music',\n",
       " 'Biography',\n",
       " 'Romance',\n",
       " 'History',\n",
       " 'Crime',\n",
       " 'Western',\n",
       " 'War',\n",
       " 'Musical',\n",
       " 'Sport']"
      ]
     },
     "execution_count": 277,
     "metadata": {},
     "output_type": "execute_result"
    }
   ],
   "source": [
    "uni_list"
   ]
  },
  {
   "cell_type": "markdown",
   "id": "3b868923-8622-4035-807c-a3730fc930cb",
   "metadata": {},
   "source": [
    "# How many films of each genre were made"
   ]
  },
  {
   "cell_type": "code",
   "execution_count": 280,
   "id": "bb2ba9a7-62df-4719-987a-4da49b590f22",
   "metadata": {
    "tags": []
   },
   "outputs": [],
   "source": [
    "one_d=[]\n",
    "for item in list1:\n",
    "    for item1 in item:\n",
    "        one_d.append(item1) "
   ]
  },
  {
   "cell_type": "code",
   "execution_count": 284,
   "id": "7afa43af-ca3e-4c37-ac3a-3c6eb1ac3e70",
   "metadata": {
    "tags": []
   },
   "outputs": [],
   "source": [
    "from collections import Counter"
   ]
  },
  {
   "cell_type": "code",
   "execution_count": 286,
   "id": "d5ab50b1-d8bc-4fe2-a1f6-ac31810b7fbe",
   "metadata": {
    "tags": []
   },
   "outputs": [
    {
     "data": {
      "text/plain": [
       "Counter({'Drama': 513,\n",
       "         'Action': 303,\n",
       "         'Comedy': 279,\n",
       "         'Adventure': 259,\n",
       "         'Thriller': 195,\n",
       "         'Crime': 150,\n",
       "         'Romance': 141,\n",
       "         'Sci-Fi': 120,\n",
       "         'Horror': 119,\n",
       "         'Mystery': 106,\n",
       "         'Fantasy': 101,\n",
       "         'Biography': 81,\n",
       "         'Family': 51,\n",
       "         'Animation': 49,\n",
       "         'History': 29,\n",
       "         'Sport': 18,\n",
       "         'Music': 16,\n",
       "         'War': 13,\n",
       "         'Western': 7,\n",
       "         'Musical': 5})"
      ]
     },
     "execution_count": 286,
     "metadata": {},
     "output_type": "execute_result"
    }
   ],
   "source": [
    "Counter(one_d)"
   ]
  },
  {
   "cell_type": "code",
   "execution_count": null,
   "id": "5670a122-978f-40dd-a5c7-4934117940f7",
   "metadata": {},
   "outputs": [],
   "source": []
  }
 ],
 "metadata": {
  "kernelspec": {
   "display_name": "Python 3 (ipykernel)",
   "language": "python",
   "name": "python3"
  },
  "language_info": {
   "codemirror_mode": {
    "name": "ipython",
    "version": 3
   },
   "file_extension": ".py",
   "mimetype": "text/x-python",
   "name": "python",
   "nbconvert_exporter": "python",
   "pygments_lexer": "ipython3",
   "version": "3.9.18"
  }
 },
 "nbformat": 4,
 "nbformat_minor": 5
}
